{
 "cells": [
  {
   "cell_type": "markdown",
   "id": "8a3e9e9e",
   "metadata": {},
   "source": [
    "# **E-Commerce & Retail B2B Classification Case Study**\n",
    "\n",
    "*Problem Statement*\n",
    "\n",
    "Schuster is a multinational retail company dealing in sports goods and accessories. Schuster conducts significant business with hundreds of its vendors, with whom it has credit arrangements. Unfortunately, not all vendors respect credit terms and some of them tend to make payments late. Schuster levies heavy late payment fees, although this procedure is not beneficial to either party in a long-term business relationship. The company has some employees who keep chasing vendors to get the payment on time; this procedure nevertheless also results in non-value-added activities, loss of time and financial impact. Schuster would thus try to understand its customers’ payment behaviour and predict the likelihood of late payments against open invoices.\n",
    "\n",
    "*Goal*\n",
    "\n",
    "Schuster would like to better understand the customers’ payment behaviour based on their past payment patterns (customer segmentation). Using historical information, it wants to be able to predict the likelihood of delayed payment against open invoices from its customers. It wants to use this information so that collectors can prioritise their work in following up with customers beforehand to get the payments on time.\n",
    "\n",
    "Data Understanding\n",
    "\n",
    "RECEIPT_METHOD In which method payments have been made\n",
    "\n",
    "CUSTOMER_NAME Name of the customer/vendor\n",
    "\n",
    "CUSTOMER_NUMBER Customer's unique identity number\n",
    "\n",
    "RECEIPT_DOC_NO Reference number of the payment receipt\n",
    "\n",
    "RECEIPT_DATE The date in which the payment has been made\n",
    "\n",
    "CLASS As the payment against these invoices have already been received so Transaction Class as PMT (short for Payment) assigned\n",
    "\n",
    "CURRENCY_CODE Currency used for the payment\n",
    "\n",
    "Local Amount Invoice value in local currency\n",
    "\n",
    "USD Amount Invoice Value converted to USD\n",
    "\n",
    "INVOICE_ALLOCATED Invoice number that has been allocated to a particular vendor\n",
    "\n",
    "INVOICE_CREATION_DATE The date on which the invoice was created\n",
    "\n",
    "DUE_DATE The date by which the payment was to be made\n",
    "\n",
    "PAYMENT_TERM Days given to the vendor/customer for making the payments\n",
    "\n",
    "INVOICE_CLASS Three types of Invoice classes - Credit Memo or Credit Note (CM), Debit Memo or Debit Note (DM) or Invoice (INV)\n",
    "\n",
    "INVOICE_CURRENCY_CODE Currency code as per the invoice generated\n",
    "\n",
    "INVOICE_TYPE Invoice created for physical goods or services (non-goods)\n",
    "\n",
    "Finally target variable will be derived based on the suggested information \"You need to derive it by checking whether the payment receipt date falls within, or after the due date. By doing so, you can create your binary target variable as 1 or 0.\"\n",
    "\n",
    "\n"
   ]
  },
  {
   "cell_type": "code",
   "execution_count": 3,
   "id": "0d7e47b4",
   "metadata": {},
   "outputs": [],
   "source": [
    "# Suppressing Warnings\n",
    "import warnings\n",
    "warnings.filterwarnings('ignore')\n",
    "# Importing Pandas and NumPy\n",
    "import pandas as pd, numpy as np"
   ]
  },
  {
   "cell_type": "code",
   "execution_count": 7,
   "id": "d2268f58",
   "metadata": {},
   "outputs": [
    {
     "data": {
      "text/html": [
       "<div>\n",
       "<style scoped>\n",
       "    .dataframe tbody tr th:only-of-type {\n",
       "        vertical-align: middle;\n",
       "    }\n",
       "\n",
       "    .dataframe tbody tr th {\n",
       "        vertical-align: top;\n",
       "    }\n",
       "\n",
       "    .dataframe thead th {\n",
       "        text-align: right;\n",
       "    }\n",
       "</style>\n",
       "<table border=\"1\" class=\"dataframe\">\n",
       "  <thead>\n",
       "    <tr style=\"text-align: right;\">\n",
       "      <th></th>\n",
       "      <th>RECEIPT_METHOD</th>\n",
       "      <th>CUSTOMER_NAME</th>\n",
       "      <th>CUSTOMER_NUMBER</th>\n",
       "      <th>RECEIPT_DOC_NO</th>\n",
       "      <th>RECEIPT_DATE</th>\n",
       "      <th>CLASS</th>\n",
       "      <th>CURRENCY_CODE</th>\n",
       "      <th>Local Amount</th>\n",
       "      <th>USD Amount</th>\n",
       "      <th>INVOICE_ALLOCATED</th>\n",
       "      <th>INVOICE_CREATION_DATE</th>\n",
       "      <th>DUE_DATE</th>\n",
       "      <th>PAYMENT_TERM</th>\n",
       "      <th>INVOICE_CLASS</th>\n",
       "      <th>INVOICE_CURRENCY_CODE</th>\n",
       "      <th>INVOICE_TYPE</th>\n",
       "    </tr>\n",
       "  </thead>\n",
       "  <tbody>\n",
       "    <tr>\n",
       "      <th>0</th>\n",
       "      <td>WIRE</td>\n",
       "      <td>C EA Corp</td>\n",
       "      <td>37403</td>\n",
       "      <td>1.421000e+10</td>\n",
       "      <td>20-Apr-21</td>\n",
       "      <td>PMT</td>\n",
       "      <td>USD</td>\n",
       "      <td>370990.92</td>\n",
       "      <td>101018.63040</td>\n",
       "      <td>14200000001</td>\n",
       "      <td>2-Nov-20</td>\n",
       "      <td>30-Dec-20</td>\n",
       "      <td>30 Days from EOM</td>\n",
       "      <td>INV</td>\n",
       "      <td>AED</td>\n",
       "      <td>Non Goods</td>\n",
       "    </tr>\n",
       "    <tr>\n",
       "      <th>1</th>\n",
       "      <td>WIRE</td>\n",
       "      <td>RADW Corp</td>\n",
       "      <td>4003</td>\n",
       "      <td>9.921000e+10</td>\n",
       "      <td>31-Jan-21</td>\n",
       "      <td>PMT</td>\n",
       "      <td>SAR</td>\n",
       "      <td>183750.00</td>\n",
       "      <td>48990.21133</td>\n",
       "      <td>99200000043</td>\n",
       "      <td>29-Dec-20</td>\n",
       "      <td>28-Jan-21</td>\n",
       "      <td>30 Days from Inv Date</td>\n",
       "      <td>INV</td>\n",
       "      <td>SAR</td>\n",
       "      <td>Non Goods</td>\n",
       "    </tr>\n",
       "    <tr>\n",
       "      <th>2</th>\n",
       "      <td>WIRE</td>\n",
       "      <td>RADW Corp</td>\n",
       "      <td>4003</td>\n",
       "      <td>9.921000e+10</td>\n",
       "      <td>31-Jan-21</td>\n",
       "      <td>PMT</td>\n",
       "      <td>SAR</td>\n",
       "      <td>157500.00</td>\n",
       "      <td>41991.60971</td>\n",
       "      <td>99210000003</td>\n",
       "      <td>30-Jan-21</td>\n",
       "      <td>1-Mar-21</td>\n",
       "      <td>30 Days from Inv Date</td>\n",
       "      <td>INV</td>\n",
       "      <td>SAR</td>\n",
       "      <td>Non Goods</td>\n",
       "    </tr>\n",
       "    <tr>\n",
       "      <th>3</th>\n",
       "      <td>WIRE</td>\n",
       "      <td>FARO Corp</td>\n",
       "      <td>1409</td>\n",
       "      <td>9.921000e+10</td>\n",
       "      <td>31-Jan-21</td>\n",
       "      <td>PMT</td>\n",
       "      <td>SAR</td>\n",
       "      <td>157500.00</td>\n",
       "      <td>41991.60971</td>\n",
       "      <td>99200000038</td>\n",
       "      <td>15-Dec-20</td>\n",
       "      <td>14-Jan-21</td>\n",
       "      <td>30 Days from Inv Date</td>\n",
       "      <td>INV</td>\n",
       "      <td>SAR</td>\n",
       "      <td>Non Goods</td>\n",
       "    </tr>\n",
       "    <tr>\n",
       "      <th>4</th>\n",
       "      <td>WIRE</td>\n",
       "      <td>RADW Corp</td>\n",
       "      <td>4003</td>\n",
       "      <td>9.921000e+10</td>\n",
       "      <td>31-Jan-21</td>\n",
       "      <td>PMT</td>\n",
       "      <td>SAR</td>\n",
       "      <td>157500.00</td>\n",
       "      <td>41991.60971</td>\n",
       "      <td>99200000039</td>\n",
       "      <td>15-Dec-20</td>\n",
       "      <td>14-Jan-21</td>\n",
       "      <td>30 Days from Inv Date</td>\n",
       "      <td>INV</td>\n",
       "      <td>SAR</td>\n",
       "      <td>Non Goods</td>\n",
       "    </tr>\n",
       "  </tbody>\n",
       "</table>\n",
       "</div>"
      ],
      "text/plain": [
       "  RECEIPT_METHOD CUSTOMER_NAME  CUSTOMER_NUMBER  RECEIPT_DOC_NO RECEIPT_DATE  \\\n",
       "0           WIRE     C EA Corp            37403    1.421000e+10    20-Apr-21   \n",
       "1           WIRE     RADW Corp             4003    9.921000e+10    31-Jan-21   \n",
       "2           WIRE     RADW Corp             4003    9.921000e+10    31-Jan-21   \n",
       "3           WIRE     FARO Corp             1409    9.921000e+10    31-Jan-21   \n",
       "4           WIRE     RADW Corp             4003    9.921000e+10    31-Jan-21   \n",
       "\n",
       "  CLASS CURRENCY_CODE  Local Amount    USD Amount INVOICE_ALLOCATED  \\\n",
       "0   PMT           USD     370990.92  101018.63040       14200000001   \n",
       "1   PMT           SAR     183750.00   48990.21133       99200000043   \n",
       "2   PMT           SAR     157500.00   41991.60971       99210000003   \n",
       "3   PMT           SAR     157500.00   41991.60971       99200000038   \n",
       "4   PMT           SAR     157500.00   41991.60971       99200000039   \n",
       "\n",
       "  INVOICE_CREATION_DATE   DUE_DATE           PAYMENT_TERM INVOICE_CLASS  \\\n",
       "0              2-Nov-20  30-Dec-20       30 Days from EOM           INV   \n",
       "1             29-Dec-20  28-Jan-21  30 Days from Inv Date           INV   \n",
       "2             30-Jan-21   1-Mar-21  30 Days from Inv Date           INV   \n",
       "3             15-Dec-20  14-Jan-21  30 Days from Inv Date           INV   \n",
       "4             15-Dec-20  14-Jan-21  30 Days from Inv Date           INV   \n",
       "\n",
       "  INVOICE_CURRENCY_CODE INVOICE_TYPE  \n",
       "0                   AED    Non Goods  \n",
       "1                   SAR    Non Goods  \n",
       "2                   SAR    Non Goods  \n",
       "3                   SAR    Non Goods  \n",
       "4                   SAR    Non Goods  "
      ]
     },
     "execution_count": 7,
     "metadata": {},
     "output_type": "execute_result"
    }
   ],
   "source": [
    "# Importing Received dataset and looking at the first 5 records\n",
    "train = pd.read_csv(\"Received_Payments_Data.csv\")\n",
    "train.head()"
   ]
  },
  {
   "cell_type": "code",
   "execution_count": 8,
   "id": "24d62f04",
   "metadata": {},
   "outputs": [
    {
     "name": "stdout",
     "output_type": "stream",
     "text": [
      "minimum invoice value:  0.0\n",
      "maximum invoice value:  10849828.8\n",
      "average invoice value:  531201.3\n"
     ]
    }
   ],
   "source": [
    "##min, max and average value of invoice value in USD\n",
    "print('minimum invoice value: ',train['USD Amount'].min())\n",
    "print('maximum invoice value: ',train['USD Amount'].max())\n",
    "print('average invoice value: ',np.round(train['USD Amount'].mean(),1))"
   ]
  },
  {
   "cell_type": "code",
   "execution_count": 9,
   "id": "b3fcef67",
   "metadata": {},
   "outputs": [],
   "source": [
    "import matplotlib.pyplot as plt\n",
    "import seaborn as sns"
   ]
  },
  {
   "cell_type": "code",
   "execution_count": 11,
   "id": "c79b4e81",
   "metadata": {},
   "outputs": [],
   "source": [
    "train[['INVOICE_CREATION_DATE','DUE_DATE']] = train[['INVOICE_CREATION_DATE','DUE_DATE']].apply(pd.to_datetime)"
   ]
  },
  {
   "cell_type": "code",
   "execution_count": 12,
   "id": "d544b062",
   "metadata": {},
   "outputs": [],
   "source": [
    "#0: Delayed\n",
    "#1: On time\n",
    "#creating the target variable\n",
    "train['target'] = np.where(train['INVOICE_CREATION_DATE']>train['DUE_DATE'], 0, 1)"
   ]
  },
  {
   "cell_type": "code",
   "execution_count": 13,
   "id": "01b37e44",
   "metadata": {},
   "outputs": [
    {
     "data": {
      "text/plain": [
       "1    90263\n",
       "0     3674\n",
       "Name: target, dtype: int64"
      ]
     },
     "execution_count": 13,
     "metadata": {},
     "output_type": "execute_result"
    }
   ],
   "source": [
    "#counts of unique values\n",
    "train['target'].value_counts()"
   ]
  },
  {
   "cell_type": "code",
   "execution_count": 14,
   "id": "5b554853",
   "metadata": {},
   "outputs": [
    {
     "name": "stdout",
     "output_type": "stream",
     "text": [
      "Average Invoice value for delayed customers:  248782.34\n"
     ]
    }
   ],
   "source": [
    "#average invoice value for delayed customers\n",
    "print('Average Invoice value for delayed customers: ',np.round(train[train['target']==0]['USD Amount'].mean(),2))"
   ]
  },
  {
   "cell_type": "code",
   "execution_count": 15,
   "id": "e12e2ebe",
   "metadata": {},
   "outputs": [
    {
     "name": "stdout",
     "output_type": "stream",
     "text": [
      "<class 'pandas.core.frame.DataFrame'>\n",
      "RangeIndex: 93937 entries, 0 to 93936\n",
      "Data columns (total 17 columns):\n",
      " #   Column                 Non-Null Count  Dtype         \n",
      "---  ------                 --------------  -----         \n",
      " 0   RECEIPT_METHOD         93937 non-null  object        \n",
      " 1   CUSTOMER_NAME          93937 non-null  object        \n",
      " 2   CUSTOMER_NUMBER        93937 non-null  int64         \n",
      " 3   RECEIPT_DOC_NO         93908 non-null  float64       \n",
      " 4   RECEIPT_DATE           93937 non-null  object        \n",
      " 5   CLASS                  93937 non-null  object        \n",
      " 6   CURRENCY_CODE          93937 non-null  object        \n",
      " 7   Local Amount           93937 non-null  float64       \n",
      " 8   USD Amount             93937 non-null  float64       \n",
      " 9   INVOICE_ALLOCATED      93937 non-null  object        \n",
      " 10  INVOICE_CREATION_DATE  93937 non-null  datetime64[ns]\n",
      " 11  DUE_DATE               93937 non-null  datetime64[ns]\n",
      " 12  PAYMENT_TERM           93937 non-null  object        \n",
      " 13  INVOICE_CLASS          93937 non-null  object        \n",
      " 14  INVOICE_CURRENCY_CODE  93937 non-null  object        \n",
      " 15  INVOICE_TYPE           93937 non-null  object        \n",
      " 16  target                 93937 non-null  int32         \n",
      "dtypes: datetime64[ns](2), float64(3), int32(1), int64(1), object(10)\n",
      "memory usage: 11.8+ MB\n"
     ]
    }
   ],
   "source": [
    "#checking the basic information about the columns\n",
    "train.info()"
   ]
  },
  {
   "cell_type": "code",
   "execution_count": 16,
   "id": "09e84cd2",
   "metadata": {},
   "outputs": [
    {
     "data": {
      "text/plain": [
       "<AxesSubplot:ylabel='Frequency'>"
      ]
     },
     "execution_count": 16,
     "metadata": {},
     "output_type": "execute_result"
    },
    {
     "data": {
      "image/png": "[encoded data removed]",
      "text/plain": [
       "<Figure size 432x288 with 1 Axes>"
      ]
     },
     "metadata": {
      "needs_background": "light"
     },
     "output_type": "display_data"
    }
   ],
   "source": [
    "#Plotting the distribution of invoice value\n",
    "train['USD Amount'].plot.hist()"
   ]
  },
  {
   "cell_type": "code",
   "execution_count": 17,
   "id": "e39ac842",
   "metadata": {},
   "outputs": [],
   "source": [
    "import seaborn as sns\n",
    "sns.set_theme(style=\"whitegrid\")"
   ]
  },
  {
   "cell_type": "code",
   "execution_count": 18,
   "id": "6845d699",
   "metadata": {},
   "outputs": [
    {
     "data": {
      "text/plain": [
       "<AxesSubplot:xlabel='target', ylabel='count'>"
      ]
     },
     "execution_count": 18,
     "metadata": {},
     "output_type": "execute_result"
    },
    {
     "data": {
      "image/png": "[encoded data removed]",
      "text/plain": [
       "<Figure size 432x288 with 1 Axes>"
      ]
     },
     "metadata": {},
     "output_type": "display_data"
    }
   ],
   "source": [
    "sns.countplot(x=train[\"target\"])"
   ]
  },
  {
   "cell_type": "code",
   "execution_count": 19,
   "id": "57a411f2",
   "metadata": {},
   "outputs": [
    {
     "data": {
      "text/html": [
       "<div>\n",
       "<style scoped>\n",
       "    .dataframe tbody tr th:only-of-type {\n",
       "        vertical-align: middle;\n",
       "    }\n",
       "\n",
       "    .dataframe tbody tr th {\n",
       "        vertical-align: top;\n",
       "    }\n",
       "\n",
       "    .dataframe thead th {\n",
       "        text-align: right;\n",
       "    }\n",
       "</style>\n",
       "<table border=\"1\" class=\"dataframe\">\n",
       "  <thead>\n",
       "    <tr style=\"text-align: right;\">\n",
       "      <th></th>\n",
       "      <th>counts</th>\n",
       "      <th>%</th>\n",
       "    </tr>\n",
       "  </thead>\n",
       "  <tbody>\n",
       "    <tr>\n",
       "      <th>1</th>\n",
       "      <td>90263</td>\n",
       "      <td>96.09</td>\n",
       "    </tr>\n",
       "    <tr>\n",
       "      <th>0</th>\n",
       "      <td>3674</td>\n",
       "      <td>3.91</td>\n",
       "    </tr>\n",
       "  </tbody>\n",
       "</table>\n",
       "</div>"
      ],
      "text/plain": [
       "   counts      %\n",
       "1   90263  96.09\n",
       "0    3674   3.91"
      ]
     },
     "execution_count": 19,
     "metadata": {},
     "output_type": "execute_result"
    }
   ],
   "source": [
    "c = train.target.value_counts()\n",
    "p = np.round(train.target.value_counts(normalize=True)*100,2)\n",
    "pd.concat([c,p], axis=1, keys=['counts', '%'])"
   ]
  },
  {
   "cell_type": "markdown",
   "id": "028138f8",
   "metadata": {},
   "source": [
    "Here we can see, approximately 4% of the customers are marked as 'Delayed' Clearly class imbalance is the isuue and we will deal it in the model building process"
   ]
  },
  {
   "cell_type": "code",
   "execution_count": 20,
   "id": "5af4cf53",
   "metadata": {},
   "outputs": [
    {
     "data": {
      "text/plain": [
       "<AxesSubplot:xlabel='CLASS', ylabel='count'>"
      ]
     },
     "execution_count": 20,
     "metadata": {},
     "output_type": "execute_result"
    },
    {
     "data": {
      "image/png": "[encoded data removed]",
      "text/plain": [
       "<Figure size 432x288 with 1 Axes>"
      ]
     },
     "metadata": {},
     "output_type": "display_data"
    }
   ],
   "source": [
    "#delayed and on-time customer unique value counts with the payment class\n",
    "sns.countplot(data=train, x=\"CLASS\", hue=\"target\")"
   ]
  },
  {
   "cell_type": "code",
   "execution_count": 21,
   "id": "73021fb5",
   "metadata": {},
   "outputs": [
    {
     "data": {
      "text/plain": [
       "60 Days from Inv Date                                      19870\n",
       "30 Days from Inv Date                                      14672\n",
       "60 Days from EOM                                           12518\n",
       "30 Days from EOM                                           11306\n",
       "15 Days from EOM                                            7544\n",
       "Immediate Payment                                           5474\n",
       "Immediate                                                   5261\n",
       "90 Days from EOM                                            3893\n",
       "45 Days from Inv Date                                       3550\n",
       "45 Days from EOM                                            3509\n",
       "90 Days from Inv Date                                       2211\n",
       "100% Adv Payment                                            1241\n",
       "25 DAYS FROM EOM                                             462\n",
       "Cash on Delivery                                             418\n",
       "15 Days from Inv Date                                        356\n",
       "45 DAYS + EOM                                                322\n",
       "On Consignment                                               264\n",
       "EOM                                                          232\n",
       "75 Days from EOM                                             197\n",
       "120 Days from Inv Date                                       124\n",
       "LC at 60 days                                                115\n",
       "50% Advance 50% INVDATE+60 DAYS                               94\n",
       "75 Days from Inv Date                                         59\n",
       "7 Days from Inv Date                                          46\n",
       "50% ADV 50% 30 Days                                           44\n",
       "LCSight                                                       31\n",
       "LC at 90 days                                                 29\n",
       "195 days from Invoice Date                                    23\n",
       "LC at 60 days from FCR/AWB/BL date                            18\n",
       "30% advance 70% after 60 days from invoice date               14\n",
       "50% ADVANCE PAYMENT AND 50% UPON RECEIVING THE SHIPMENT        8\n",
       "30% advance 70% after 30 days from invoice date                6\n",
       "Cash Against Document at sight                                 6\n",
       "365 DAYS FROM INVOICE DATE                                     5\n",
       "25% ADVANCE, 75% 30 DAYS FROM INVOICE DATE                     4\n",
       "Advance with discount                                          2\n",
       "50% at 30 days and 50% at 60 days                              2\n",
       "40 DAYS FROM EOM                                               2\n",
       "Standby LC at 30 days                                          2\n",
       "180 DAYS FROM INV DATE                                         1\n",
       "120 Days from EOM                                              1\n",
       "7 Days from EOM                                                1\n",
       "Name: PAYMENT_TERM, dtype: int64"
      ]
     },
     "execution_count": 21,
     "metadata": {},
     "output_type": "execute_result"
    }
   ],
   "source": [
    "#unique value counts of payment terms\n",
    "train['PAYMENT_TERM'].value_counts()"
   ]
  },
  {
   "cell_type": "code",
   "execution_count": 22,
   "id": "9464f56c",
   "metadata": {},
   "outputs": [
    {
     "data": {
      "text/plain": [
       "INV    88124\n",
       "CM      5261\n",
       "DM       552\n",
       "Name: INVOICE_CLASS, dtype: int64"
      ]
     },
     "execution_count": 22,
     "metadata": {},
     "output_type": "execute_result"
    }
   ],
   "source": [
    "#unique value count distribution of invoice class\n",
    "train['INVOICE_CLASS'].value_counts()"
   ]
  },
  {
   "cell_type": "code",
   "execution_count": 23,
   "id": "71a89cf2",
   "metadata": {},
   "outputs": [
    {
     "data": {
      "text/plain": [
       "Goods        66715\n",
       "Non Goods    27222\n",
       "Name: INVOICE_TYPE, dtype: int64"
      ]
     },
     "execution_count": 23,
     "metadata": {},
     "output_type": "execute_result"
    }
   ],
   "source": [
    "#unique value count distribution of invoice type\n",
    "train['INVOICE_TYPE'].value_counts()"
   ]
  },
  {
   "cell_type": "code",
   "execution_count": 24,
   "id": "5ad673ef",
   "metadata": {},
   "outputs": [
    {
     "data": {
      "text/plain": [
       "<AxesSubplot:xlabel='INVOICE_CLASS', ylabel='count'>"
      ]
     },
     "execution_count": 24,
     "metadata": {},
     "output_type": "execute_result"
    },
    {
     "data": {
      "image/png": "[encoded data removed]",
      "text/plain": [
       "<Figure size 432x288 with 1 Axes>"
      ]
     },
     "metadata": {},
     "output_type": "display_data"
    }
   ],
   "source": [
    "#delayed and on-time customer distribution across the invoice class categories\n",
    "sns.countplot(data=train, x='INVOICE_CLASS', hue=\"target\")"
   ]
  },
  {
   "cell_type": "code",
   "execution_count": 25,
   "id": "f11cadc1",
   "metadata": {},
   "outputs": [
    {
     "data": {
      "text/plain": [
       "<AxesSubplot:xlabel='INVOICE_TYPE', ylabel='count'>"
      ]
     },
     "execution_count": 25,
     "metadata": {},
     "output_type": "execute_result"
    },
    {
     "data": {
      "image/png": "[encoded data removed]",
      "text/plain": [
       "<Figure size 432x288 with 1 Axes>"
      ]
     },
     "metadata": {},
     "output_type": "display_data"
    }
   ],
   "source": [
    "#delayed and on-time customer distribution across the invoice type categories\n",
    "sns.countplot(data=train, x='INVOICE_TYPE', hue=\"target\")"
   ]
  },
  {
   "cell_type": "code",
   "execution_count": 26,
   "id": "ee9b8fd0",
   "metadata": {},
   "outputs": [
    {
     "data": {
      "text/plain": [
       "<AxesSubplot:xlabel='INVOICE_TYPE', ylabel='USD Amount'>"
      ]
     },
     "execution_count": 26,
     "metadata": {},
     "output_type": "execute_result"
    },
    {
     "data": {
      "image/png": "[encoded data removed]",
      "text/plain": [
       "<Figure size 432x288 with 1 Axes>"
      ]
     },
     "metadata": {},
     "output_type": "display_data"
    }
   ],
   "source": [
    "#Multivariate analysis\n",
    "sns.barplot(data=train, x=\"INVOICE_TYPE\", y=\"USD Amount\", hue=\"target\")"
   ]
  },
  {
   "cell_type": "code",
   "execution_count": 27,
   "id": "9e012897",
   "metadata": {},
   "outputs": [
    {
     "data": {
      "text/plain": [
       "<AxesSubplot:xlabel='INVOICE_CLASS', ylabel='USD Amount'>"
      ]
     },
     "execution_count": 27,
     "metadata": {},
     "output_type": "execute_result"
    },
    {
     "data": {
      "image/png": "[encoded data removed]",
      "text/plain": [
       "<Figure size 432x288 with 1 Axes>"
      ]
     },
     "metadata": {},
     "output_type": "display_data"
    }
   ],
   "source": [
    "#Multivariate analysis\n",
    "sns.barplot(data=train, x=\"INVOICE_CLASS\", y=\"USD Amount\", hue=\"target\")"
   ]
  },
  {
   "cell_type": "code",
   "execution_count": 28,
   "id": "36765536",
   "metadata": {},
   "outputs": [
    {
     "data": {
      "text/plain": [
       "<AxesSubplot:ylabel='Frequency'>"
      ]
     },
     "execution_count": 28,
     "metadata": {},
     "output_type": "execute_result"
    },
    {
     "data": {
      "image/png": "[encoded data removed]",
      "text/plain": [
       "<Figure size 432x288 with 1 Axes>"
      ]
     },
     "metadata": {},
     "output_type": "display_data"
    }
   ],
   "source": [
    "#distribution of the invoice amount(USD)\n",
    "train['USD Amount'].plot(kind='hist')"
   ]
  },
  {
   "cell_type": "code",
   "execution_count": 29,
   "id": "e4ec4af7",
   "metadata": {},
   "outputs": [],
   "source": [
    "#variable transformation\n",
    "#method: cube root \n",
    "train['cbrt_USD_Amount'] = np.cbrt(train['USD Amount'])"
   ]
  },
  {
   "cell_type": "code",
   "execution_count": 30,
   "id": "3bb9cb7f",
   "metadata": {},
   "outputs": [
    {
     "data": {
      "text/plain": [
       "<AxesSubplot:ylabel='Frequency'>"
      ]
     },
     "execution_count": 30,
     "metadata": {},
     "output_type": "execute_result"
    },
    {
     "data": {
      "image/png": "[encoded data removed]",
      "text/plain": [
       "<Figure size 432x288 with 1 Axes>"
      ]
     },
     "metadata": {},
     "output_type": "display_data"
    }
   ],
   "source": [
    "train['cbrt_USD_Amount'].plot(kind='hist')"
   ]
  },
  {
   "cell_type": "code",
   "execution_count": 31,
   "id": "0d21dbb2",
   "metadata": {},
   "outputs": [],
   "source": [
    "#The age is calculated in days by taking the difference between Transaction Date and Due Date\n",
    "train['age']=(train['INVOICE_CREATION_DATE']-train['DUE_DATE']).dt.days"
   ]
  },
  {
   "cell_type": "code",
   "execution_count": 32,
   "id": "33c8c48b",
   "metadata": {},
   "outputs": [
    {
     "data": {
      "text/html": [
       "<div>\n",
       "<style scoped>\n",
       "    .dataframe tbody tr th:only-of-type {\n",
       "        vertical-align: middle;\n",
       "    }\n",
       "\n",
       "    .dataframe tbody tr th {\n",
       "        vertical-align: top;\n",
       "    }\n",
       "\n",
       "    .dataframe thead th {\n",
       "        text-align: right;\n",
       "    }\n",
       "</style>\n",
       "<table border=\"1\" class=\"dataframe\">\n",
       "  <thead>\n",
       "    <tr style=\"text-align: right;\">\n",
       "      <th></th>\n",
       "      <th>RECEIPT_METHOD</th>\n",
       "      <th>CUSTOMER_NAME</th>\n",
       "      <th>CUSTOMER_NUMBER</th>\n",
       "      <th>RECEIPT_DOC_NO</th>\n",
       "      <th>RECEIPT_DATE</th>\n",
       "      <th>CLASS</th>\n",
       "      <th>CURRENCY_CODE</th>\n",
       "      <th>Local Amount</th>\n",
       "      <th>USD Amount</th>\n",
       "      <th>INVOICE_ALLOCATED</th>\n",
       "      <th>INVOICE_CREATION_DATE</th>\n",
       "      <th>DUE_DATE</th>\n",
       "      <th>PAYMENT_TERM</th>\n",
       "      <th>INVOICE_CLASS</th>\n",
       "      <th>INVOICE_CURRENCY_CODE</th>\n",
       "      <th>INVOICE_TYPE</th>\n",
       "      <th>target</th>\n",
       "      <th>cbrt_USD_Amount</th>\n",
       "      <th>age</th>\n",
       "    </tr>\n",
       "  </thead>\n",
       "  <tbody>\n",
       "    <tr>\n",
       "      <th>10852</th>\n",
       "      <td>PDC</td>\n",
       "      <td>FAKH Corp</td>\n",
       "      <td>1223</td>\n",
       "      <td>1.070000e+11</td>\n",
       "      <td>25-May-21</td>\n",
       "      <td>PMT</td>\n",
       "      <td>AED</td>\n",
       "      <td>10797.00</td>\n",
       "      <td>2.939959e+03</td>\n",
       "      <td>1.0721E+11</td>\n",
       "      <td>2021-03-22</td>\n",
       "      <td>2021-05-30</td>\n",
       "      <td>60 Days from EOM</td>\n",
       "      <td>INV</td>\n",
       "      <td>AED</td>\n",
       "      <td>Goods</td>\n",
       "      <td>1</td>\n",
       "      <td>14.325631</td>\n",
       "      <td>-69</td>\n",
       "    </tr>\n",
       "    <tr>\n",
       "      <th>22209</th>\n",
       "      <td>WIRE</td>\n",
       "      <td>SEPH Corp</td>\n",
       "      <td>2315</td>\n",
       "      <td>1.470000e+11</td>\n",
       "      <td>25-Feb-21</td>\n",
       "      <td>PMT</td>\n",
       "      <td>AED</td>\n",
       "      <td>2215089.44</td>\n",
       "      <td>2.215089e+06</td>\n",
       "      <td>1.472E+11</td>\n",
       "      <td>2020-12-16</td>\n",
       "      <td>2021-02-28</td>\n",
       "      <td>60 Days from EOM</td>\n",
       "      <td>INV</td>\n",
       "      <td>AED</td>\n",
       "      <td>Goods</td>\n",
       "      <td>1</td>\n",
       "      <td>130.355819</td>\n",
       "      <td>-74</td>\n",
       "    </tr>\n",
       "    <tr>\n",
       "      <th>43991</th>\n",
       "      <td>WIRE</td>\n",
       "      <td>SADD Corp</td>\n",
       "      <td>39604</td>\n",
       "      <td>1.510000e+11</td>\n",
       "      <td>30-May-21</td>\n",
       "      <td>PMT</td>\n",
       "      <td>SAR</td>\n",
       "      <td>97500.00</td>\n",
       "      <td>2.599481e+04</td>\n",
       "      <td>1.51215E+11</td>\n",
       "      <td>2021-05-24</td>\n",
       "      <td>2021-06-23</td>\n",
       "      <td>30 Days from Inv Date</td>\n",
       "      <td>INV</td>\n",
       "      <td>SAR</td>\n",
       "      <td>Goods</td>\n",
       "      <td>1</td>\n",
       "      <td>29.622988</td>\n",
       "      <td>-30</td>\n",
       "    </tr>\n",
       "    <tr>\n",
       "      <th>35104</th>\n",
       "      <td>WIRE</td>\n",
       "      <td>FARO Corp</td>\n",
       "      <td>1409</td>\n",
       "      <td>1.510000e+11</td>\n",
       "      <td>27-Jan-21</td>\n",
       "      <td>PMT</td>\n",
       "      <td>SAR</td>\n",
       "      <td>351231.80</td>\n",
       "      <td>9.364310e+04</td>\n",
       "      <td>1.5118E+11</td>\n",
       "      <td>2018-05-16</td>\n",
       "      <td>2018-06-15</td>\n",
       "      <td>15 Days from EOM</td>\n",
       "      <td>INV</td>\n",
       "      <td>SAR</td>\n",
       "      <td>Goods</td>\n",
       "      <td>1</td>\n",
       "      <td>45.410742</td>\n",
       "      <td>-30</td>\n",
       "    </tr>\n",
       "    <tr>\n",
       "      <th>54885</th>\n",
       "      <td>AP/AR Netting</td>\n",
       "      <td>L OR Corp</td>\n",
       "      <td>29420</td>\n",
       "      <td>1.540000e+11</td>\n",
       "      <td>21-Mar-21</td>\n",
       "      <td>PMT</td>\n",
       "      <td>AED</td>\n",
       "      <td>6333350.63</td>\n",
       "      <td>1.724534e+06</td>\n",
       "      <td>1.5421E+11</td>\n",
       "      <td>2021-02-28</td>\n",
       "      <td>2021-03-30</td>\n",
       "      <td>30 Days from Inv Date</td>\n",
       "      <td>INV</td>\n",
       "      <td>AED</td>\n",
       "      <td>Non Goods</td>\n",
       "      <td>1</td>\n",
       "      <td>119.919712</td>\n",
       "      <td>-30</td>\n",
       "    </tr>\n",
       "  </tbody>\n",
       "</table>\n",
       "</div>"
      ],
      "text/plain": [
       "      RECEIPT_METHOD CUSTOMER_NAME  CUSTOMER_NUMBER  RECEIPT_DOC_NO  \\\n",
       "10852            PDC     FAKH Corp             1223    1.070000e+11   \n",
       "22209           WIRE     SEPH Corp             2315    1.470000e+11   \n",
       "43991           WIRE     SADD Corp            39604    1.510000e+11   \n",
       "35104           WIRE     FARO Corp             1409    1.510000e+11   \n",
       "54885  AP/AR Netting     L OR Corp            29420    1.540000e+11   \n",
       "\n",
       "      RECEIPT_DATE CLASS CURRENCY_CODE  Local Amount    USD Amount  \\\n",
       "10852    25-May-21   PMT           AED      10797.00  2.939959e+03   \n",
       "22209    25-Feb-21   PMT           AED    2215089.44  2.215089e+06   \n",
       "43991    30-May-21   PMT           SAR      97500.00  2.599481e+04   \n",
       "35104    27-Jan-21   PMT           SAR     351231.80  9.364310e+04   \n",
       "54885    21-Mar-21   PMT           AED    6333350.63  1.724534e+06   \n",
       "\n",
       "      INVOICE_ALLOCATED INVOICE_CREATION_DATE   DUE_DATE  \\\n",
       "10852        1.0721E+11            2021-03-22 2021-05-30   \n",
       "22209         1.472E+11            2020-12-16 2021-02-28   \n",
       "43991       1.51215E+11            2021-05-24 2021-06-23   \n",
       "35104        1.5118E+11            2018-05-16 2018-06-15   \n",
       "54885        1.5421E+11            2021-02-28 2021-03-30   \n",
       "\n",
       "                PAYMENT_TERM INVOICE_CLASS INVOICE_CURRENCY_CODE INVOICE_TYPE  \\\n",
       "10852       60 Days from EOM           INV                   AED        Goods   \n",
       "22209       60 Days from EOM           INV                   AED        Goods   \n",
       "43991  30 Days from Inv Date           INV                   SAR        Goods   \n",
       "35104       15 Days from EOM           INV                   SAR        Goods   \n",
       "54885  30 Days from Inv Date           INV                   AED    Non Goods   \n",
       "\n",
       "       target  cbrt_USD_Amount  age  \n",
       "10852       1        14.325631  -69  \n",
       "22209       1       130.355819  -74  \n",
       "43991       1        29.622988  -30  \n",
       "35104       1        45.410742  -30  \n",
       "54885       1       119.919712  -30  "
      ]
     },
     "execution_count": 32,
     "metadata": {},
     "output_type": "execute_result"
    }
   ],
   "source": [
    "train[train['target']==1].sample(5)"
   ]
  },
  {
   "cell_type": "markdown",
   "id": "9841765a",
   "metadata": {},
   "source": [
    "Clustering - Customer Segmentation\n",
    "\n",
    "Recommendation Given: Customer-level attributes could also be important independent variables to be included in the model. A customer-level attribute can be determined via customer segmentation. You have to segment your customers based on two derived variables: the average payment time in days for a customer and the standard deviation for the payment time. Using clustering techniques would result in a few distinct clusters of customers, which can be used as an input variable for the ML model."
   ]
  },
  {
   "cell_type": "code",
   "execution_count": 34,
   "id": "91f62523",
   "metadata": {},
   "outputs": [],
   "source": [
    "clustering_data = train[['target','Local Amount','age','INVOICE_CLASS','INVOICE_CREATION_DATE']]"
   ]
  },
  {
   "cell_type": "code",
   "execution_count": 35,
   "id": "a1dc7758",
   "metadata": {},
   "outputs": [],
   "source": [
    "clustering_data = clustering_data.applymap(lambda s: s.lower() if type(s) == str else s)"
   ]
  },
  {
   "cell_type": "code",
   "execution_count": 36,
   "id": "a579a748",
   "metadata": {},
   "outputs": [],
   "source": [
    "clustering_data.columns= clustering_data.columns.str.lower()"
   ]
  },
  {
   "cell_type": "code",
   "execution_count": 37,
   "id": "13aa6afa",
   "metadata": {},
   "outputs": [],
   "source": [
    "clustering_data['std'] = clustering_data[['age','local amount']].std(axis=1)"
   ]
  },
  {
   "cell_type": "code",
   "execution_count": 38,
   "id": "0ddd03b3",
   "metadata": {},
   "outputs": [],
   "source": [
    "clustering_data['target'] = clustering_data['target'].astype(str)"
   ]
  },
  {
   "cell_type": "code",
   "execution_count": 39,
   "id": "13c85c1a",
   "metadata": {},
   "outputs": [],
   "source": [
    "clustering_data = clustering_data.loc[clustering_data['age']<=1200]"
   ]
  },
  {
   "cell_type": "code",
   "execution_count": 40,
   "id": "c0461c2a",
   "metadata": {},
   "outputs": [],
   "source": [
    "median = clustering_data[\"age\"].median()\n",
    "clustering_data[\"age\"] = np.where(clustering_data[\"age\"] >400, median,clustering_data['age'])"
   ]
  },
  {
   "cell_type": "code",
   "execution_count": 41,
   "id": "12a2735a",
   "metadata": {},
   "outputs": [],
   "source": [
    "from pandas.api.types import is_string_dtype\n",
    "from pandas.api.types import is_numeric_dtype"
   ]
  },
  {
   "cell_type": "code",
   "execution_count": 42,
   "id": "dae9e63f",
   "metadata": {},
   "outputs": [
    {
     "name": "stdout",
     "output_type": "stream",
     "text": [
      "numeric: ['local amount', 'age', 'std']\n",
      "categorical: ['target', 'invoice_class']\n"
     ]
    }
   ],
   "source": [
    "# populate list of numerical and categorical variables\n",
    "num_list = []\n",
    "cat_list = []\n",
    "\n",
    "for column in clustering_data:\n",
    "    if is_numeric_dtype(clustering_data[column]):\n",
    "        num_list.append(column)\n",
    "    elif is_string_dtype(clustering_data[column]):\n",
    "        cat_list.append(column)\n",
    "        \n",
    "\n",
    "print(\"numeric:\", num_list)\n",
    "print(\"categorical:\", cat_list)"
   ]
  },
  {
   "cell_type": "code",
   "execution_count": 43,
   "id": "635a8a0d",
   "metadata": {},
   "outputs": [
    {
     "data": {
      "image/png": "[encoded data removed]",
      "text/plain": [
       "<Figure size 360x360 with 1 Axes>"
      ]
     },
     "metadata": {},
     "output_type": "display_data"
    },
    {
     "data": {
      "image/png": "[encoded data removed]",
      "text/plain": [
       "<Figure size 360x360 with 1 Axes>"
      ]
     },
     "metadata": {},
     "output_type": "display_data"
    },
    {
     "data": {
      "image/png": "[encoded data removed]",
      "text/plain": [
       "<Figure size 360x360 with 1 Axes>"
      ]
     },
     "metadata": {},
     "output_type": "display_data"
    },
    {
     "data": {
      "image/png": "[encoded data removed]",
      "text/plain": [
       "<Figure size 360x360 with 1 Axes>"
      ]
     },
     "metadata": {},
     "output_type": "display_data"
    },
    {
     "data": {
      "image/png": "[encoded data removed]",
      "text/plain": [
       "<Figure size 360x360 with 1 Axes>"
      ]
     },
     "metadata": {},
     "output_type": "display_data"
    },
    {
     "data": {
      "image/png": "[encoded data removed]",
      "text/plain": [
       "<Figure size 360x360 with 1 Axes>"
      ]
     },
     "metadata": {},
     "output_type": "display_data"
    }
   ],
   "source": [
    "for column in clustering_data:\n",
    "    plt.figure(column, figsize = (5,5))\n",
    "    plt.title(column)\n",
    "    if is_numeric_dtype(clustering_data[column]):\n",
    "        clustering_data[column].plot(kind = 'hist')\n",
    "    elif is_string_dtype(clustering_data[column]):\n",
    "        # show only the TOP 10 value count in each categorical data\n",
    "        clustering_data[column].value_counts()[:10].plot(kind = 'bar')"
   ]
  },
  {
   "cell_type": "code",
   "execution_count": 46,
   "id": "6abc8504",
   "metadata": {},
   "outputs": [],
   "source": [
    "# encoding categorical variable\n",
    "from sklearn.preprocessing import LabelEncoder\n",
    "\n",
    "clustering_data['invoice_class'] = LabelEncoder().fit_transform(clustering_data[\"invoice_class\"])"
   ]
  },
  {
   "cell_type": "code",
   "execution_count": 47,
   "id": "b137cde4",
   "metadata": {},
   "outputs": [
    {
     "data": {
      "text/plain": [
       "Index(['target', 'local amount', 'age', 'invoice_class',\n",
       "       'invoice_creation_date', 'std'],\n",
       "      dtype='object')"
      ]
     },
     "execution_count": 47,
     "metadata": {},
     "output_type": "execute_result"
    }
   ],
   "source": [
    "clustering_data.columns"
   ]
  },
  {
   "cell_type": "code",
   "execution_count": 48,
   "id": "3c0508e5",
   "metadata": {},
   "outputs": [],
   "source": [
    "from sklearn.preprocessing import StandardScaler\n",
    "from sklearn.preprocessing import MinMaxScaler\n",
    "from sklearn.preprocessing import RobustScaler\n",
    "\n",
    "\n",
    "def data_scaler(scaler, var):\n",
    "    scaled_var = \"scaled_\" + var\n",
    "    model = scaler.fit(df[var].values.reshape(-1,1))\n",
    "    df[scaled_var] = model.transform(df[var].values.reshape(-1, 1))\n",
    "    \n",
    "    plt.figure(figsize = (5,5))\n",
    "    plt.title(scaled_var)\n",
    "    df[scaled_var].plot(kind = 'hist')\n",
    "    \n",
    "    plt.figure(figsize = (5,5))\n",
    "    plt.title(var)\n",
    "    df[var].plot(kind = 'hist')"
   ]
  },
  {
   "cell_type": "code",
   "execution_count": 49,
   "id": "bf2c97cf",
   "metadata": {},
   "outputs": [],
   "source": [
    "from sklearn.preprocessing import StandardScaler\n",
    "\n",
    "scaler = StandardScaler()\n",
    "\n",
    "for var in [\"age\", \"local amount\"]:\n",
    "    scaled_var = \"scaled_\" + var\n",
    "    model = scaler.fit(clustering_data[var].values.reshape(-1,1))\n",
    "    clustering_data[scaled_var] = model.transform(clustering_data[var].values.reshape(-1, 1))"
   ]
  },
  {
   "cell_type": "code",
   "execution_count": 50,
   "id": "7ea9e443",
   "metadata": {},
   "outputs": [
    {
     "data": {
      "text/plain": [
       "<AxesSubplot:title={'center':'scaled_age'}, ylabel='Frequency'>"
      ]
     },
     "execution_count": 50,
     "metadata": {},
     "output_type": "execute_result"
    },
    {
     "data": {
      "image/png": "[encoded data removed]",
      "text/plain": [
       "<Figure size 360x360 with 1 Axes>"
      ]
     },
     "metadata": {},
     "output_type": "display_data"
    }
   ],
   "source": [
    "plt.figure(figsize = (5,5))\n",
    "plt.title('scaled_age')\n",
    "clustering_data['scaled_age'].plot(kind = 'hist')"
   ]
  },
  {
   "cell_type": "code",
   "execution_count": 51,
   "id": "59c92af9",
   "metadata": {},
   "outputs": [
    {
     "data": {
      "text/plain": [
       "<AxesSubplot:title={'center':'scaled_local amount'}, ylabel='Frequency'>"
      ]
     },
     "execution_count": 51,
     "metadata": {},
     "output_type": "execute_result"
    },
    {
     "data": {
      "image/png": "[encoded data removed]",
      "text/plain": [
       "<Figure size 360x360 with 1 Axes>"
      ]
     },
     "metadata": {},
     "output_type": "display_data"
    }
   ],
   "source": [
    "plt.figure(figsize = (5,5))\n",
    "plt.title('scaled_local amount')\n",
    "clustering_data['scaled_local amount'].plot(kind = 'hist')"
   ]
  },
  {
   "cell_type": "code",
   "execution_count": 52,
   "id": "93677aaf",
   "metadata": {},
   "outputs": [
    {
     "data": {
      "image/png": "[encoded data removed]",
      "text/plain": [
       "<Figure size 1080x360 with 6 Axes>"
      ]
     },
     "metadata": {},
     "output_type": "display_data"
    }
   ],
   "source": [
    "import seaborn as sns\n",
    "columns = ['scaled_age','scaled_local amount']\n",
    "#plt.figure(figsize = (10,20))\n",
    "g = sns.pairplot(clustering_data[columns])\n",
    "g.fig.set_size_inches(15,5)"
   ]
  },
  {
   "cell_type": "code",
   "execution_count": 53,
   "id": "1878dd5b",
   "metadata": {},
   "outputs": [],
   "source": [
    "# Load packages\n",
    "import pandas as pd\n",
    "import seaborn as sns\n",
    "import numpy as np\n",
    "import matplotlib.pyplot as plt \n",
    "from sklearn.cluster import KMeans\n",
    "from sklearn.model_selection import train_test_split\n",
    "sns.set_style('darkgrid')"
   ]
  },
  {
   "cell_type": "code",
   "execution_count": 54,
   "id": "c8685882",
   "metadata": {},
   "outputs": [],
   "source": [
    "X = np.array(clustering_data.loc[:,['std',                # Choose the variable names\n",
    "                       'age']])    \\\n",
    "                        .reshape(-1, 2)"
   ]
  },
  {
   "cell_type": "code",
   "execution_count": 55,
   "id": "df4c05a0",
   "metadata": {},
   "outputs": [],
   "source": [
    "# Determine optimal cluster number with elbow method\n",
    "wcss = []"
   ]
  },
  {
   "cell_type": "code",
   "execution_count": 56,
   "id": "b1b54b27",
   "metadata": {},
   "outputs": [],
   "source": [
    "for i in range(1, 11):\n",
    "    model = KMeans(n_clusters = i,     \n",
    "                    init = 'k-means++',                 # Initialization method for kmeans\n",
    "                    max_iter = 300,                     # Maximum number of iterations \n",
    "                    n_init = 10,                        # Choose how often algorithm will run with different centroid \n",
    "                    random_state = 0)                   # Choose random state for reproducibility\n",
    "    model.fit(X)                              \n",
    "    wcss.append(model.inertia_)"
   ]
  },
  {
   "cell_type": "code",
   "execution_count": 57,
   "id": "9fc2069d",
   "metadata": {},
   "outputs": [
    {
     "data": {
      "image/png": "[encoded data removed]",
      "text/plain": [
       "<Figure size 432x288 with 1 Axes>"
      ]
     },
     "metadata": {},
     "output_type": "display_data"
    }
   ],
   "source": [
    "# Show Elbow plot\n",
    "plt.plot(range(1, 11), wcss)\n",
    "plt.title('Elbow Method')                               # Set plot title\n",
    "plt.xlabel('Number of clusters')                        # Set x axis name\n",
    "plt.ylabel('Within Cluster Sum of Squares (WCSS)')      # Set y axis name\n",
    "plt.show()"
   ]
  },
  {
   "cell_type": "code",
   "execution_count": 58,
   "id": "24cebccf",
   "metadata": {},
   "outputs": [],
   "source": [
    "kmeans = KMeans(n_clusters = 3,                 # Set amount of clusters\n",
    "                init = 'k-means++',             # Initialization method for kmeans\n",
    "                max_iter = 300,                 # Maximum number of iterations\n",
    "                n_init = 10,                    # Choose how often algorithm will run with different centroid\n",
    "                random_state = 0)               # Choose random state for reproducibility\n",
    "\n",
    "pred_y = kmeans.fit_predict(X)"
   ]
  },
  {
   "cell_type": "code",
   "execution_count": 59,
   "id": "35804994",
   "metadata": {},
   "outputs": [
    {
     "data": {
      "image/png": "[encoded data removed]",
      "text/plain": [
       "<Figure size 432x288 with 1 Axes>"
      ]
     },
     "metadata": {},
     "output_type": "display_data"
    }
   ],
   "source": [
    "# Plot the data\n",
    "plt.scatter(X[:,0], \n",
    "            X[:,1])\n",
    "\n",
    "# Plot the clusters \n",
    "plt.scatter(kmeans.cluster_centers_[:, 0], \n",
    "            kmeans.cluster_centers_[:, 1], \n",
    "            s=1000,                             # Set centroid size\n",
    "            c='red',\n",
    "           alpha=0.5)                           # Set centroid color\n",
    "plt.show()"
   ]
  },
  {
   "cell_type": "markdown",
   "id": "f6ad9696",
   "metadata": {},
   "source": [
    "We can see that average days of the payment time are segmented in three main zones: 0-1 standard deviation of payment time, 2 standard deviation of payment time and 4 standard deviation of payment time"
   ]
  },
  {
   "cell_type": "code",
   "execution_count": 62,
   "id": "13f51768",
   "metadata": {},
   "outputs": [],
   "source": [
    "### Data Preparation\n",
    "#dropping the date columns as the necessary information has been derived before\n",
    "train = train.drop(['RECEIPT_DATE','DUE_DATE','INVOICE_CREATION_DATE'],axis=1)"
   ]
  },
  {
   "cell_type": "code",
   "execution_count": 64,
   "id": "a982c486",
   "metadata": {},
   "outputs": [
    {
     "data": {
      "text/html": [
       "<div>\n",
       "<style scoped>\n",
       "    .dataframe tbody tr th:only-of-type {\n",
       "        vertical-align: middle;\n",
       "    }\n",
       "\n",
       "    .dataframe tbody tr th {\n",
       "        vertical-align: top;\n",
       "    }\n",
       "\n",
       "    .dataframe thead th {\n",
       "        text-align: right;\n",
       "    }\n",
       "</style>\n",
       "<table border=\"1\" class=\"dataframe\">\n",
       "  <thead>\n",
       "    <tr style=\"text-align: right;\">\n",
       "      <th></th>\n",
       "      <th>RECEIPT_METHOD</th>\n",
       "      <th>CUSTOMER_NAME</th>\n",
       "      <th>CUSTOMER_NUMBER</th>\n",
       "      <th>RECEIPT_DOC_NO</th>\n",
       "      <th>CLASS</th>\n",
       "      <th>CURRENCY_CODE</th>\n",
       "      <th>Local Amount</th>\n",
       "      <th>USD Amount</th>\n",
       "      <th>INVOICE_ALLOCATED</th>\n",
       "      <th>PAYMENT_TERM</th>\n",
       "      <th>INVOICE_CLASS</th>\n",
       "      <th>INVOICE_CURRENCY_CODE</th>\n",
       "      <th>INVOICE_TYPE</th>\n",
       "      <th>target</th>\n",
       "      <th>cbrt_USD_Amount</th>\n",
       "      <th>age</th>\n",
       "    </tr>\n",
       "  </thead>\n",
       "  <tbody>\n",
       "    <tr>\n",
       "      <th>0</th>\n",
       "      <td>WIRE</td>\n",
       "      <td>C EA Corp</td>\n",
       "      <td>37403</td>\n",
       "      <td>1.421000e+10</td>\n",
       "      <td>PMT</td>\n",
       "      <td>USD</td>\n",
       "      <td>370990.92</td>\n",
       "      <td>101018.63040</td>\n",
       "      <td>14200000001</td>\n",
       "      <td>30 Days from EOM</td>\n",
       "      <td>INV</td>\n",
       "      <td>AED</td>\n",
       "      <td>Non Goods</td>\n",
       "      <td>1</td>\n",
       "      <td>46.572958</td>\n",
       "      <td>-58</td>\n",
       "    </tr>\n",
       "    <tr>\n",
       "      <th>1</th>\n",
       "      <td>WIRE</td>\n",
       "      <td>RADW Corp</td>\n",
       "      <td>4003</td>\n",
       "      <td>9.921000e+10</td>\n",
       "      <td>PMT</td>\n",
       "      <td>SAR</td>\n",
       "      <td>183750.00</td>\n",
       "      <td>48990.21133</td>\n",
       "      <td>99200000043</td>\n",
       "      <td>30 Days from Inv Date</td>\n",
       "      <td>INV</td>\n",
       "      <td>SAR</td>\n",
       "      <td>Non Goods</td>\n",
       "      <td>1</td>\n",
       "      <td>36.590620</td>\n",
       "      <td>-30</td>\n",
       "    </tr>\n",
       "    <tr>\n",
       "      <th>2</th>\n",
       "      <td>WIRE</td>\n",
       "      <td>RADW Corp</td>\n",
       "      <td>4003</td>\n",
       "      <td>9.921000e+10</td>\n",
       "      <td>PMT</td>\n",
       "      <td>SAR</td>\n",
       "      <td>157500.00</td>\n",
       "      <td>41991.60971</td>\n",
       "      <td>99210000003</td>\n",
       "      <td>30 Days from Inv Date</td>\n",
       "      <td>INV</td>\n",
       "      <td>SAR</td>\n",
       "      <td>Non Goods</td>\n",
       "      <td>1</td>\n",
       "      <td>34.757952</td>\n",
       "      <td>-30</td>\n",
       "    </tr>\n",
       "    <tr>\n",
       "      <th>3</th>\n",
       "      <td>WIRE</td>\n",
       "      <td>FARO Corp</td>\n",
       "      <td>1409</td>\n",
       "      <td>9.921000e+10</td>\n",
       "      <td>PMT</td>\n",
       "      <td>SAR</td>\n",
       "      <td>157500.00</td>\n",
       "      <td>41991.60971</td>\n",
       "      <td>99200000038</td>\n",
       "      <td>30 Days from Inv Date</td>\n",
       "      <td>INV</td>\n",
       "      <td>SAR</td>\n",
       "      <td>Non Goods</td>\n",
       "      <td>1</td>\n",
       "      <td>34.757952</td>\n",
       "      <td>-30</td>\n",
       "    </tr>\n",
       "    <tr>\n",
       "      <th>4</th>\n",
       "      <td>WIRE</td>\n",
       "      <td>RADW Corp</td>\n",
       "      <td>4003</td>\n",
       "      <td>9.921000e+10</td>\n",
       "      <td>PMT</td>\n",
       "      <td>SAR</td>\n",
       "      <td>157500.00</td>\n",
       "      <td>41991.60971</td>\n",
       "      <td>99200000039</td>\n",
       "      <td>30 Days from Inv Date</td>\n",
       "      <td>INV</td>\n",
       "      <td>SAR</td>\n",
       "      <td>Non Goods</td>\n",
       "      <td>1</td>\n",
       "      <td>34.757952</td>\n",
       "      <td>-30</td>\n",
       "    </tr>\n",
       "  </tbody>\n",
       "</table>\n",
       "</div>"
      ],
      "text/plain": [
       "  RECEIPT_METHOD CUSTOMER_NAME  CUSTOMER_NUMBER  RECEIPT_DOC_NO CLASS  \\\n",
       "0           WIRE     C EA Corp            37403    1.421000e+10   PMT   \n",
       "1           WIRE     RADW Corp             4003    9.921000e+10   PMT   \n",
       "2           WIRE     RADW Corp             4003    9.921000e+10   PMT   \n",
       "3           WIRE     FARO Corp             1409    9.921000e+10   PMT   \n",
       "4           WIRE     RADW Corp             4003    9.921000e+10   PMT   \n",
       "\n",
       "  CURRENCY_CODE  Local Amount    USD Amount INVOICE_ALLOCATED  \\\n",
       "0           USD     370990.92  101018.63040       14200000001   \n",
       "1           SAR     183750.00   48990.21133       99200000043   \n",
       "2           SAR     157500.00   41991.60971       99210000003   \n",
       "3           SAR     157500.00   41991.60971       99200000038   \n",
       "4           SAR     157500.00   41991.60971       99200000039   \n",
       "\n",
       "            PAYMENT_TERM INVOICE_CLASS INVOICE_CURRENCY_CODE INVOICE_TYPE  \\\n",
       "0       30 Days from EOM           INV                   AED    Non Goods   \n",
       "1  30 Days from Inv Date           INV                   SAR    Non Goods   \n",
       "2  30 Days from Inv Date           INV                   SAR    Non Goods   \n",
       "3  30 Days from Inv Date           INV                   SAR    Non Goods   \n",
       "4  30 Days from Inv Date           INV                   SAR    Non Goods   \n",
       "\n",
       "   target  cbrt_USD_Amount  age  \n",
       "0       1        46.572958  -58  \n",
       "1       1        36.590620  -30  \n",
       "2       1        34.757952  -30  \n",
       "3       1        34.757952  -30  \n",
       "4       1        34.757952  -30  "
      ]
     },
     "execution_count": 64,
     "metadata": {},
     "output_type": "execute_result"
    }
   ],
   "source": [
    "train.head()"
   ]
  },
  {
   "cell_type": "code",
   "execution_count": 65,
   "id": "69a6be8c",
   "metadata": {},
   "outputs": [],
   "source": [
    "#making all lower-case\n",
    "train = train.applymap(lambda s: s.lower() if type(s) == str else s)"
   ]
  },
  {
   "cell_type": "code",
   "execution_count": 66,
   "id": "2fab6691",
   "metadata": {},
   "outputs": [
    {
     "data": {
      "text/plain": [
       "Index(['RECEIPT_METHOD', 'CUSTOMER_NAME', 'CUSTOMER_NUMBER', 'RECEIPT_DOC_NO',\n",
       "       'CLASS', 'CURRENCY_CODE', 'Local Amount', 'USD Amount',\n",
       "       'INVOICE_ALLOCATED', 'PAYMENT_TERM', 'INVOICE_CLASS',\n",
       "       'INVOICE_CURRENCY_CODE', 'INVOICE_TYPE', 'target', 'cbrt_USD_Amount',\n",
       "       'age'],\n",
       "      dtype='object')"
      ]
     },
     "execution_count": 66,
     "metadata": {},
     "output_type": "execute_result"
    }
   ],
   "source": [
    "train.columns"
   ]
  },
  {
   "cell_type": "code",
   "execution_count": 67,
   "id": "48bfab19",
   "metadata": {},
   "outputs": [
    {
     "data": {
      "text/plain": [
       "Index(['receipt_method', 'customer_name', 'customer_number', 'receipt_doc_no',\n",
       "       'class', 'currency_code', 'local amount', 'usd amount',\n",
       "       'invoice_allocated', 'payment_term', 'invoice_class',\n",
       "       'invoice_currency_code', 'invoice_type', 'target', 'cbrt_usd_amount',\n",
       "       'age'],\n",
       "      dtype='object')"
      ]
     },
     "execution_count": 67,
     "metadata": {},
     "output_type": "execute_result"
    }
   ],
   "source": [
    "#making the header name lower-case\n",
    "train.columns= train.columns.str.lower()\n",
    "train.columns"
   ]
  },
  {
   "cell_type": "code",
   "execution_count": 68,
   "id": "b35718d1",
   "metadata": {},
   "outputs": [
    {
     "data": {
      "text/plain": [
       "receipt_method            0\n",
       "customer_name             0\n",
       "customer_number           0\n",
       "receipt_doc_no           29\n",
       "class                     0\n",
       "currency_code             0\n",
       "local amount              0\n",
       "usd amount                0\n",
       "invoice_allocated         0\n",
       "payment_term              0\n",
       "invoice_class             0\n",
       "invoice_currency_code     0\n",
       "invoice_type              0\n",
       "target                    0\n",
       "cbrt_usd_amount           0\n",
       "age                       0\n",
       "dtype: int64"
      ]
     },
     "execution_count": 68,
     "metadata": {},
     "output_type": "execute_result"
    }
   ],
   "source": [
    "train.isnull().sum()"
   ]
  },
  {
   "cell_type": "code",
   "execution_count": 69,
   "id": "81059c89",
   "metadata": {},
   "outputs": [],
   "source": [
    "numeric_data = train.select_dtypes(include=[np.number])\n",
    "categorical_data = train.select_dtypes(exclude=[np.number])"
   ]
  },
  {
   "cell_type": "code",
   "execution_count": 70,
   "id": "951b0674",
   "metadata": {},
   "outputs": [
    {
     "data": {
      "text/plain": [
       "Index(['target', 'cbrt_usd_amount', 'age'], dtype='object')"
      ]
     },
     "execution_count": 70,
     "metadata": {},
     "output_type": "execute_result"
    }
   ],
   "source": [
    "#dropping unnecessary numeric columns\n",
    "numeric_data = numeric_data.drop(['customer_number', 'receipt_doc_no', 'local amount', 'usd amount'],axis=1)\n",
    "numeric_data.columns"
   ]
  },
  {
   "cell_type": "code",
   "execution_count": 71,
   "id": "e0bf6c2a",
   "metadata": {},
   "outputs": [
    {
     "data": {
      "text/plain": [
       "target             0\n",
       "cbrt_usd_amount    0\n",
       "age                0\n",
       "dtype: int64"
      ]
     },
     "execution_count": 71,
     "metadata": {},
     "output_type": "execute_result"
    }
   ],
   "source": [
    "numeric_data.isnull().sum()"
   ]
  },
  {
   "cell_type": "code",
   "execution_count": 72,
   "id": "62f4e752",
   "metadata": {},
   "outputs": [
    {
     "data": {
      "text/plain": [
       "Index(['receipt_method', 'customer_name', 'class', 'currency_code',\n",
       "       'invoice_allocated', 'payment_term', 'invoice_class',\n",
       "       'invoice_currency_code', 'invoice_type'],\n",
       "      dtype='object')"
      ]
     },
     "execution_count": 72,
     "metadata": {},
     "output_type": "execute_result"
    }
   ],
   "source": [
    "categorical_data.columns"
   ]
  },
  {
   "cell_type": "code",
   "execution_count": 73,
   "id": "a15d8109",
   "metadata": {},
   "outputs": [],
   "source": [
    "#dropping unnecessary categorical columns\n",
    "categorical_data = categorical_data.drop(['receipt_method', 'customer_name','invoice_allocated', 'currency_code', 'class'],axis=1)"
   ]
  },
  {
   "cell_type": "code",
   "execution_count": 74,
   "id": "638f0c22",
   "metadata": {},
   "outputs": [
    {
     "data": {
      "text/plain": [
       "Index(['payment_term', 'invoice_class', 'invoice_currency_code',\n",
       "       'invoice_type'],\n",
       "      dtype='object')"
      ]
     },
     "execution_count": 74,
     "metadata": {},
     "output_type": "execute_result"
    }
   ],
   "source": [
    "categorical_data.columns"
   ]
  },
  {
   "cell_type": "code",
   "execution_count": 75,
   "id": "11ac281b",
   "metadata": {},
   "outputs": [],
   "source": [
    "#dummy encoding\n",
    "encoded_cols = pd.get_dummies(train[categorical_data.columns], drop_first=True)"
   ]
  },
  {
   "cell_type": "code",
   "execution_count": 76,
   "id": "ac5e7d88",
   "metadata": {},
   "outputs": [],
   "source": [
    "data = pd.concat([numeric_data,encoded_cols], axis=1)"
   ]
  },
  {
   "cell_type": "code",
   "execution_count": 77,
   "id": "af5ee73a",
   "metadata": {},
   "outputs": [
    {
     "data": {
      "text/plain": [
       "(93937, 56)"
      ]
     },
     "execution_count": 77,
     "metadata": {},
     "output_type": "execute_result"
    }
   ],
   "source": [
    "data.shape"
   ]
  },
  {
   "cell_type": "code",
   "execution_count": 78,
   "id": "8fb9d304",
   "metadata": {},
   "outputs": [
    {
     "data": {
      "text/html": [
       "<div>\n",
       "<style scoped>\n",
       "    .dataframe tbody tr th:only-of-type {\n",
       "        vertical-align: middle;\n",
       "    }\n",
       "\n",
       "    .dataframe tbody tr th {\n",
       "        vertical-align: top;\n",
       "    }\n",
       "\n",
       "    .dataframe thead th {\n",
       "        text-align: right;\n",
       "    }\n",
       "</style>\n",
       "<table border=\"1\" class=\"dataframe\">\n",
       "  <thead>\n",
       "    <tr style=\"text-align: right;\">\n",
       "      <th></th>\n",
       "      <th>target</th>\n",
       "      <th>cbrt_usd_amount</th>\n",
       "      <th>age</th>\n",
       "      <th>payment_term_120 days from eom</th>\n",
       "      <th>payment_term_120 days from inv date</th>\n",
       "      <th>payment_term_15 days from eom</th>\n",
       "      <th>payment_term_15 days from inv date</th>\n",
       "      <th>payment_term_180 days from inv date</th>\n",
       "      <th>payment_term_195 days from invoice date</th>\n",
       "      <th>payment_term_25 days from eom</th>\n",
       "      <th>...</th>\n",
       "      <th>invoice_currency_code_bhd</th>\n",
       "      <th>invoice_currency_code_eur</th>\n",
       "      <th>invoice_currency_code_gbp</th>\n",
       "      <th>invoice_currency_code_jod</th>\n",
       "      <th>invoice_currency_code_kwd</th>\n",
       "      <th>invoice_currency_code_qar</th>\n",
       "      <th>invoice_currency_code_sar</th>\n",
       "      <th>invoice_currency_code_usd</th>\n",
       "      <th>invoice_currency_code_zar</th>\n",
       "      <th>invoice_type_non goods</th>\n",
       "    </tr>\n",
       "  </thead>\n",
       "  <tbody>\n",
       "    <tr>\n",
       "      <th>12901</th>\n",
       "      <td>1</td>\n",
       "      <td>40.478680</td>\n",
       "      <td>-60</td>\n",
       "      <td>0</td>\n",
       "      <td>0</td>\n",
       "      <td>0</td>\n",
       "      <td>0</td>\n",
       "      <td>0</td>\n",
       "      <td>0</td>\n",
       "      <td>0</td>\n",
       "      <td>...</td>\n",
       "      <td>0</td>\n",
       "      <td>1</td>\n",
       "      <td>0</td>\n",
       "      <td>0</td>\n",
       "      <td>0</td>\n",
       "      <td>0</td>\n",
       "      <td>0</td>\n",
       "      <td>0</td>\n",
       "      <td>0</td>\n",
       "      <td>1</td>\n",
       "    </tr>\n",
       "    <tr>\n",
       "      <th>14499</th>\n",
       "      <td>1</td>\n",
       "      <td>114.058896</td>\n",
       "      <td>-60</td>\n",
       "      <td>0</td>\n",
       "      <td>0</td>\n",
       "      <td>0</td>\n",
       "      <td>0</td>\n",
       "      <td>0</td>\n",
       "      <td>0</td>\n",
       "      <td>0</td>\n",
       "      <td>...</td>\n",
       "      <td>0</td>\n",
       "      <td>0</td>\n",
       "      <td>0</td>\n",
       "      <td>0</td>\n",
       "      <td>0</td>\n",
       "      <td>0</td>\n",
       "      <td>0</td>\n",
       "      <td>1</td>\n",
       "      <td>0</td>\n",
       "      <td>0</td>\n",
       "    </tr>\n",
       "    <tr>\n",
       "      <th>26970</th>\n",
       "      <td>1</td>\n",
       "      <td>70.192500</td>\n",
       "      <td>0</td>\n",
       "      <td>0</td>\n",
       "      <td>0</td>\n",
       "      <td>0</td>\n",
       "      <td>0</td>\n",
       "      <td>0</td>\n",
       "      <td>0</td>\n",
       "      <td>0</td>\n",
       "      <td>...</td>\n",
       "      <td>0</td>\n",
       "      <td>0</td>\n",
       "      <td>0</td>\n",
       "      <td>0</td>\n",
       "      <td>0</td>\n",
       "      <td>0</td>\n",
       "      <td>0</td>\n",
       "      <td>1</td>\n",
       "      <td>0</td>\n",
       "      <td>0</td>\n",
       "    </tr>\n",
       "    <tr>\n",
       "      <th>8087</th>\n",
       "      <td>1</td>\n",
       "      <td>8.661078</td>\n",
       "      <td>-22</td>\n",
       "      <td>0</td>\n",
       "      <td>0</td>\n",
       "      <td>0</td>\n",
       "      <td>0</td>\n",
       "      <td>0</td>\n",
       "      <td>0</td>\n",
       "      <td>0</td>\n",
       "      <td>...</td>\n",
       "      <td>0</td>\n",
       "      <td>0</td>\n",
       "      <td>0</td>\n",
       "      <td>0</td>\n",
       "      <td>0</td>\n",
       "      <td>0</td>\n",
       "      <td>0</td>\n",
       "      <td>0</td>\n",
       "      <td>0</td>\n",
       "      <td>1</td>\n",
       "    </tr>\n",
       "    <tr>\n",
       "      <th>71461</th>\n",
       "      <td>1</td>\n",
       "      <td>59.760365</td>\n",
       "      <td>-30</td>\n",
       "      <td>0</td>\n",
       "      <td>0</td>\n",
       "      <td>0</td>\n",
       "      <td>0</td>\n",
       "      <td>0</td>\n",
       "      <td>0</td>\n",
       "      <td>0</td>\n",
       "      <td>...</td>\n",
       "      <td>0</td>\n",
       "      <td>0</td>\n",
       "      <td>0</td>\n",
       "      <td>0</td>\n",
       "      <td>0</td>\n",
       "      <td>0</td>\n",
       "      <td>0</td>\n",
       "      <td>0</td>\n",
       "      <td>0</td>\n",
       "      <td>1</td>\n",
       "    </tr>\n",
       "  </tbody>\n",
       "</table>\n",
       "<p>5 rows × 56 columns</p>\n",
       "</div>"
      ],
      "text/plain": [
       "       target  cbrt_usd_amount  age  payment_term_120 days from eom  \\\n",
       "12901       1        40.478680  -60                               0   \n",
       "14499       1       114.058896  -60                               0   \n",
       "26970       1        70.192500    0                               0   \n",
       "8087        1         8.661078  -22                               0   \n",
       "71461       1        59.760365  -30                               0   \n",
       "\n",
       "       payment_term_120 days from inv date  payment_term_15 days from eom  \\\n",
       "12901                                    0                              0   \n",
       "14499                                    0                              0   \n",
       "26970                                    0                              0   \n",
       "8087                                     0                              0   \n",
       "71461                                    0                              0   \n",
       "\n",
       "       payment_term_15 days from inv date  \\\n",
       "12901                                   0   \n",
       "14499                                   0   \n",
       "26970                                   0   \n",
       "8087                                    0   \n",
       "71461                                   0   \n",
       "\n",
       "       payment_term_180 days from inv date  \\\n",
       "12901                                    0   \n",
       "14499                                    0   \n",
       "26970                                    0   \n",
       "8087                                     0   \n",
       "71461                                    0   \n",
       "\n",
       "       payment_term_195 days from invoice date  payment_term_25 days from eom  \\\n",
       "12901                                        0                              0   \n",
       "14499                                        0                              0   \n",
       "26970                                        0                              0   \n",
       "8087                                         0                              0   \n",
       "71461                                        0                              0   \n",
       "\n",
       "       ...  invoice_currency_code_bhd  invoice_currency_code_eur  \\\n",
       "12901  ...                          0                          1   \n",
       "14499  ...                          0                          0   \n",
       "26970  ...                          0                          0   \n",
       "8087   ...                          0                          0   \n",
       "71461  ...                          0                          0   \n",
       "\n",
       "       invoice_currency_code_gbp  invoice_currency_code_jod  \\\n",
       "12901                          0                          0   \n",
       "14499                          0                          0   \n",
       "26970                          0                          0   \n",
       "8087                           0                          0   \n",
       "71461                          0                          0   \n",
       "\n",
       "       invoice_currency_code_kwd  invoice_currency_code_qar  \\\n",
       "12901                          0                          0   \n",
       "14499                          0                          0   \n",
       "26970                          0                          0   \n",
       "8087                           0                          0   \n",
       "71461                          0                          0   \n",
       "\n",
       "       invoice_currency_code_sar  invoice_currency_code_usd  \\\n",
       "12901                          0                          0   \n",
       "14499                          0                          1   \n",
       "26970                          0                          1   \n",
       "8087                           0                          0   \n",
       "71461                          0                          0   \n",
       "\n",
       "       invoice_currency_code_zar  invoice_type_non goods  \n",
       "12901                          0                       1  \n",
       "14499                          0                       0  \n",
       "26970                          0                       0  \n",
       "8087                           0                       1  \n",
       "71461                          0                       1  \n",
       "\n",
       "[5 rows x 56 columns]"
      ]
     },
     "execution_count": 78,
     "metadata": {},
     "output_type": "execute_result"
    }
   ],
   "source": [
    "data.sample(5)"
   ]
  },
  {
   "cell_type": "code",
   "execution_count": 79,
   "id": "caa1c36b",
   "metadata": {},
   "outputs": [
    {
     "data": {
      "text/plain": [
       "(93937, 56)"
      ]
     },
     "execution_count": 79,
     "metadata": {},
     "output_type": "execute_result"
    }
   ],
   "source": [
    "data.shape"
   ]
  },
  {
   "cell_type": "code",
   "execution_count": 80,
   "id": "2c436b88",
   "metadata": {},
   "outputs": [],
   "source": [
    "### train-test split\n",
    "from sklearn.model_selection import train_test_split\n",
    "X = data.drop(['target'],axis=1)\n",
    "y = data[['target']]"
   ]
  },
  {
   "cell_type": "code",
   "execution_count": 81,
   "id": "e614d303",
   "metadata": {},
   "outputs": [],
   "source": [
    "X_train, X_test, y_train, y_test = train_test_split(X, y, train_size = 0.7, test_size = 0.3, random_state = 100)"
   ]
  },
  {
   "cell_type": "code",
   "execution_count": 82,
   "id": "d9e89457",
   "metadata": {},
   "outputs": [],
   "source": [
    "#apply standard scaler\n",
    "from sklearn.preprocessing import StandardScaler\n",
    "scaler = StandardScaler()"
   ]
  },
  {
   "cell_type": "code",
   "execution_count": 83,
   "id": "d2763333",
   "metadata": {},
   "outputs": [],
   "source": [
    "num_vars = ['cbrt_usd_amount','age']"
   ]
  },
  {
   "cell_type": "code",
   "execution_count": 84,
   "id": "5588ba07",
   "metadata": {},
   "outputs": [],
   "source": [
    "data[num_vars] = scaler.fit_transform(data[num_vars])"
   ]
  },
  {
   "cell_type": "code",
   "execution_count": 85,
   "id": "bdfbc72f",
   "metadata": {},
   "outputs": [],
   "source": [
    "scaler.fit(X_train[['cbrt_usd_amount','age']])\n",
    "X_train[['cbrt_usd_amount','age']] = scaler.transform(X_train[['cbrt_usd_amount','age']])\n"
   ]
  },
  {
   "cell_type": "code",
   "execution_count": 86,
   "id": "a7855bf2",
   "metadata": {},
   "outputs": [],
   "source": [
    "X_test[['cbrt_usd_amount','age']] = scaler.transform(X_test[['cbrt_usd_amount','age']])"
   ]
  },
  {
   "cell_type": "code",
   "execution_count": 87,
   "id": "c16a585f",
   "metadata": {},
   "outputs": [
    {
     "data": {
      "text/html": [
       "<table class=\"simpletable\">\n",
       "<caption>Generalized Linear Model Regression Results</caption>\n",
       "<tr>\n",
       "  <th>Dep. Variable:</th>        <td>target</td>      <th>  No. Observations:  </th>   <td> 65755</td>  \n",
       "</tr>\n",
       "<tr>\n",
       "  <th>Model:</th>                  <td>GLM</td>       <th>  Df Residuals:      </th>   <td> 65702</td>  \n",
       "</tr>\n",
       "<tr>\n",
       "  <th>Model Family:</th>        <td>Binomial</td>     <th>  Df Model:          </th>   <td>    52</td>  \n",
       "</tr>\n",
       "<tr>\n",
       "  <th>Link Function:</th>         <td>Logit</td>      <th>  Scale:             </th>  <td>  1.0000</td> \n",
       "</tr>\n",
       "<tr>\n",
       "  <th>Method:</th>                <td>IRLS</td>       <th>  Log-Likelihood:    </th>  <td>     nan</td> \n",
       "</tr>\n",
       "<tr>\n",
       "  <th>Date:</th>            <td>Mon, 27 Feb 2023</td> <th>  Deviance:          </th> <td>1.7758e+05</td>\n",
       "</tr>\n",
       "<tr>\n",
       "  <th>Time:</th>                <td>16:59:16</td>     <th>  Pearson chi2:      </th>  <td>8.68e+18</td> \n",
       "</tr>\n",
       "<tr>\n",
       "  <th>No. Iterations:</th>         <td>100</td>       <th>  Pseudo R-squ. (CS):</th>   <td>   nan</td>  \n",
       "</tr>\n",
       "<tr>\n",
       "  <th>Covariance Type:</th>     <td>nonrobust</td>    <th>                     </th>      <td> </td>    \n",
       "</tr>\n",
       "</table>\n",
       "<table class=\"simpletable\">\n",
       "<tr>\n",
       "                                    <td></td>                                      <th>coef</th>     <th>std err</th>      <th>z</th>      <th>P>|z|</th>  <th>[0.025</th>    <th>0.975]</th>  \n",
       "</tr>\n",
       "<tr>\n",
       "  <th>const</th>                                                                <td> 2.343e+15</td> <td>  1.6e+06</td> <td> 1.46e+09</td> <td> 0.000</td> <td> 2.34e+15</td> <td> 2.34e+15</td>\n",
       "</tr>\n",
       "<tr>\n",
       "  <th>cbrt_usd_amount</th>                                                      <td> 6.054e+13</td> <td> 3.09e+05</td> <td> 1.96e+08</td> <td> 0.000</td> <td> 6.05e+13</td> <td> 6.05e+13</td>\n",
       "</tr>\n",
       "<tr>\n",
       "  <th>age</th>                                                                  <td>-1.349e+15</td> <td> 3.03e+05</td> <td>-4.45e+09</td> <td> 0.000</td> <td>-1.35e+15</td> <td>-1.35e+15</td>\n",
       "</tr>\n",
       "<tr>\n",
       "  <th>payment_term_120 days from eom</th>                                       <td> 1.119e+15</td> <td> 6.72e+07</td> <td> 1.67e+07</td> <td> 0.000</td> <td> 1.12e+15</td> <td> 1.12e+15</td>\n",
       "</tr>\n",
       "<tr>\n",
       "  <th>payment_term_120 days from inv date</th>                                  <td>-7.245e+14</td> <td> 7.67e+06</td> <td>-9.44e+07</td> <td> 0.000</td> <td>-7.25e+14</td> <td>-7.25e+14</td>\n",
       "</tr>\n",
       "<tr>\n",
       "  <th>payment_term_15 days from eom</th>                                        <td> 9.176e+14</td> <td> 2.54e+06</td> <td> 3.62e+08</td> <td> 0.000</td> <td> 9.18e+14</td> <td> 9.18e+14</td>\n",
       "</tr>\n",
       "<tr>\n",
       "  <th>payment_term_15 days from inv date</th>                                   <td> 9.813e+14</td> <td> 4.85e+06</td> <td> 2.03e+08</td> <td> 0.000</td> <td> 9.81e+14</td> <td> 9.81e+14</td>\n",
       "</tr>\n",
       "<tr>\n",
       "  <th>payment_term_180 days from inv date</th>                                  <td>   -0.8263</td> <td>    6e-07</td> <td>-1.38e+06</td> <td> 0.000</td> <td>   -0.826</td> <td>   -0.826</td>\n",
       "</tr>\n",
       "<tr>\n",
       "  <th>payment_term_195 days from invoice date</th>                              <td>-3.161e+14</td> <td> 9.06e+06</td> <td>-3.49e+07</td> <td> 0.000</td> <td>-3.16e+14</td> <td>-3.16e+14</td>\n",
       "</tr>\n",
       "<tr>\n",
       "  <th>payment_term_25 days from eom</th>                                        <td> 7.997e+14</td> <td> 4.43e+06</td> <td> 1.81e+08</td> <td> 0.000</td> <td>    8e+14</td> <td>    8e+14</td>\n",
       "</tr>\n",
       "<tr>\n",
       "  <th>payment_term_25% advance, 75% 30 days from invoice date</th>              <td> 2.288e+15</td> <td> 3.36e+07</td> <td>  6.8e+07</td> <td> 0.000</td> <td> 2.29e+15</td> <td> 2.29e+15</td>\n",
       "</tr>\n",
       "<tr>\n",
       "  <th>payment_term_30 days from eom</th>                                        <td> 2.634e+15</td> <td> 2.47e+06</td> <td> 1.07e+09</td> <td> 0.000</td> <td> 2.63e+15</td> <td> 2.63e+15</td>\n",
       "</tr>\n",
       "<tr>\n",
       "  <th>payment_term_30 days from inv date</th>                                   <td> 7.158e+14</td> <td> 2.41e+06</td> <td> 2.97e+08</td> <td> 0.000</td> <td> 7.16e+14</td> <td> 7.16e+14</td>\n",
       "</tr>\n",
       "<tr>\n",
       "  <th>payment_term_30% advance 70% after 30 days from invoice date</th>         <td> 3.063e+15</td> <td> 3.37e+07</td> <td>  9.1e+07</td> <td> 0.000</td> <td> 3.06e+15</td> <td> 3.06e+15</td>\n",
       "</tr>\n",
       "<tr>\n",
       "  <th>payment_term_30% advance 70% after 60 days from invoice date</th>         <td>-8.165e+14</td> <td> 2.39e+07</td> <td>-3.42e+07</td> <td> 0.000</td> <td>-8.16e+14</td> <td>-8.16e+14</td>\n",
       "</tr>\n",
       "<tr>\n",
       "  <th>payment_term_365 days from invoice date</th>                              <td>-4.179e+15</td> <td> 3.37e+07</td> <td>-1.24e+08</td> <td> 0.000</td> <td>-4.18e+15</td> <td>-4.18e+15</td>\n",
       "</tr>\n",
       "<tr>\n",
       "  <th>payment_term_40 days from eom</th>                                        <td> 2.493e+15</td> <td> 6.72e+07</td> <td> 3.71e+07</td> <td> 0.000</td> <td> 2.49e+15</td> <td> 2.49e+15</td>\n",
       "</tr>\n",
       "<tr>\n",
       "  <th>payment_term_45 days + eom</th>                                           <td>-2.151e+12</td> <td>    5e+06</td> <td> -4.3e+05</td> <td> 0.000</td> <td>-2.15e+12</td> <td>-2.15e+12</td>\n",
       "</tr>\n",
       "<tr>\n",
       "  <th>payment_term_45 days from eom</th>                                        <td> 2.385e+15</td> <td> 2.73e+06</td> <td> 8.73e+08</td> <td> 0.000</td> <td> 2.38e+15</td> <td> 2.38e+15</td>\n",
       "</tr>\n",
       "<tr>\n",
       "  <th>payment_term_45 days from inv date</th>                                   <td>-6.966e+14</td> <td> 2.71e+06</td> <td>-2.57e+08</td> <td> 0.000</td> <td>-6.97e+14</td> <td>-6.97e+14</td>\n",
       "</tr>\n",
       "<tr>\n",
       "  <th>payment_term_50% adv 50% 30 days</th>                                     <td> 1.867e+15</td> <td> 1.19e+07</td> <td> 1.57e+08</td> <td> 0.000</td> <td> 1.87e+15</td> <td> 1.87e+15</td>\n",
       "</tr>\n",
       "<tr>\n",
       "  <th>payment_term_50% advance 50% invdate+60 days</th>                         <td> 1.977e+15</td> <td> 8.14e+06</td> <td> 2.43e+08</td> <td> 0.000</td> <td> 1.98e+15</td> <td> 1.98e+15</td>\n",
       "</tr>\n",
       "<tr>\n",
       "  <th>payment_term_50% advance payment and 50% upon receiving the shipment</th> <td> 8.792e+14</td> <td> 3.01e+07</td> <td> 2.92e+07</td> <td> 0.000</td> <td> 8.79e+14</td> <td> 8.79e+14</td>\n",
       "</tr>\n",
       "<tr>\n",
       "  <th>payment_term_50% at 30 days and 50% at 60 days</th>                       <td> 1.758e+15</td> <td> 4.75e+07</td> <td>  3.7e+07</td> <td> 0.000</td> <td> 1.76e+15</td> <td> 1.76e+15</td>\n",
       "</tr>\n",
       "<tr>\n",
       "  <th>payment_term_60 days from eom</th>                                        <td>-1.082e+15</td> <td> 2.48e+06</td> <td>-4.36e+08</td> <td> 0.000</td> <td>-1.08e+15</td> <td>-1.08e+15</td>\n",
       "</tr>\n",
       "<tr>\n",
       "  <th>payment_term_60 days from inv date</th>                                   <td>  2.28e+15</td> <td> 2.41e+06</td> <td> 9.47e+08</td> <td> 0.000</td> <td> 2.28e+15</td> <td> 2.28e+15</td>\n",
       "</tr>\n",
       "<tr>\n",
       "  <th>payment_term_7 days from eom</th>                                         <td> 3.146e+15</td> <td> 6.72e+07</td> <td> 4.68e+07</td> <td> 0.000</td> <td> 3.15e+15</td> <td> 3.15e+15</td>\n",
       "</tr>\n",
       "<tr>\n",
       "  <th>payment_term_7 days from inv date</th>                                    <td> 7.807e+14</td> <td> 1.27e+07</td> <td> 6.16e+07</td> <td> 0.000</td> <td> 7.81e+14</td> <td> 7.81e+14</td>\n",
       "</tr>\n",
       "<tr>\n",
       "  <th>payment_term_75 days from eom</th>                                        <td>-1.329e+15</td> <td> 6.21e+06</td> <td>-2.14e+08</td> <td> 0.000</td> <td>-1.33e+15</td> <td>-1.33e+15</td>\n",
       "</tr>\n",
       "<tr>\n",
       "  <th>payment_term_75 days from inv date</th>                                   <td> 3.446e+14</td> <td> 1.07e+07</td> <td> 3.21e+07</td> <td> 0.000</td> <td> 3.45e+14</td> <td> 3.45e+14</td>\n",
       "</tr>\n",
       "<tr>\n",
       "  <th>payment_term_90 days from eom</th>                                        <td>-1.803e+15</td> <td> 2.74e+06</td> <td>-6.57e+08</td> <td> 0.000</td> <td> -1.8e+15</td> <td> -1.8e+15</td>\n",
       "</tr>\n",
       "<tr>\n",
       "  <th>payment_term_90 days from inv date</th>                                   <td>-1.397e+15</td> <td>  2.9e+06</td> <td>-4.82e+08</td> <td> 0.000</td> <td> -1.4e+15</td> <td> -1.4e+15</td>\n",
       "</tr>\n",
       "<tr>\n",
       "  <th>payment_term_advance with discount</th>                                   <td> 3.433e+15</td> <td> 6.72e+07</td> <td> 5.11e+07</td> <td> 0.000</td> <td> 3.43e+15</td> <td> 3.43e+15</td>\n",
       "</tr>\n",
       "<tr>\n",
       "  <th>payment_term_cash against document at sight</th>                          <td>  2.93e+15</td> <td> 3.94e+07</td> <td> 7.43e+07</td> <td> 0.000</td> <td> 2.93e+15</td> <td> 2.93e+15</td>\n",
       "</tr>\n",
       "<tr>\n",
       "  <th>payment_term_cash on delivery</th>                                        <td> 4.017e+14</td> <td> 4.59e+06</td> <td> 8.75e+07</td> <td> 0.000</td> <td> 4.02e+14</td> <td> 4.02e+14</td>\n",
       "</tr>\n",
       "<tr>\n",
       "  <th>payment_term_eom</th>                                                     <td>-4.447e+13</td> <td> 5.72e+06</td> <td>-7.78e+06</td> <td> 0.000</td> <td>-4.45e+13</td> <td>-4.45e+13</td>\n",
       "</tr>\n",
       "<tr>\n",
       "  <th>payment_term_immediate</th>                                               <td>-9.388e+14</td> <td> 1.69e+06</td> <td>-5.55e+08</td> <td> 0.000</td> <td>-9.39e+14</td> <td>-9.39e+14</td>\n",
       "</tr>\n",
       "<tr>\n",
       "  <th>payment_term_immediate payment</th>                                       <td>-1.306e+15</td> <td> 2.58e+06</td> <td>-5.06e+08</td> <td> 0.000</td> <td>-1.31e+15</td> <td>-1.31e+15</td>\n",
       "</tr>\n",
       "<tr>\n",
       "  <th>payment_term_lc at 60 days</th>                                           <td>-4.773e+14</td> <td> 7.73e+06</td> <td>-6.17e+07</td> <td> 0.000</td> <td>-4.77e+14</td> <td>-4.77e+14</td>\n",
       "</tr>\n",
       "<tr>\n",
       "  <th>payment_term_lc at 60 days from fcr/awb/bl date</th>                      <td> 1.773e+15</td> <td> 1.81e+07</td> <td>  9.8e+07</td> <td> 0.000</td> <td> 1.77e+15</td> <td> 1.77e+15</td>\n",
       "</tr>\n",
       "<tr>\n",
       "  <th>payment_term_lc at 90 days</th>                                           <td>-2.281e+15</td> <td> 1.43e+07</td> <td> -1.6e+08</td> <td> 0.000</td> <td>-2.28e+15</td> <td>-2.28e+15</td>\n",
       "</tr>\n",
       "<tr>\n",
       "  <th>payment_term_lcsight</th>                                                 <td> 1.763e+15</td> <td> 1.52e+07</td> <td> 1.16e+08</td> <td> 0.000</td> <td> 1.76e+15</td> <td> 1.76e+15</td>\n",
       "</tr>\n",
       "<tr>\n",
       "  <th>payment_term_on consignment</th>                                          <td>-1.849e+14</td> <td>  5.4e+06</td> <td>-3.43e+07</td> <td> 0.000</td> <td>-1.85e+14</td> <td>-1.85e+14</td>\n",
       "</tr>\n",
       "<tr>\n",
       "  <th>payment_term_standby lc at 30 days</th>                                   <td> 2.859e+15</td> <td> 6.72e+07</td> <td> 4.26e+07</td> <td> 0.000</td> <td> 2.86e+15</td> <td> 2.86e+15</td>\n",
       "</tr>\n",
       "<tr>\n",
       "  <th>invoice_class_dm</th>                                                     <td> 3.754e+15</td> <td> 3.05e+06</td> <td> 1.23e+09</td> <td> 0.000</td> <td> 3.75e+15</td> <td> 3.75e+15</td>\n",
       "</tr>\n",
       "<tr>\n",
       "  <th>invoice_class_inv</th>                                                    <td>-4.718e+14</td> <td>  1.5e+06</td> <td>-3.14e+08</td> <td> 0.000</td> <td>-4.72e+14</td> <td>-4.72e+14</td>\n",
       "</tr>\n",
       "<tr>\n",
       "  <th>invoice_currency_code_bhd</th>                                            <td> -7.54e+14</td> <td> 4.18e+06</td> <td> -1.8e+08</td> <td> 0.000</td> <td>-7.54e+14</td> <td>-7.54e+14</td>\n",
       "</tr>\n",
       "<tr>\n",
       "  <th>invoice_currency_code_eur</th>                                            <td>   5.4e+14</td> <td> 2.26e+06</td> <td> 2.39e+08</td> <td> 0.000</td> <td>  5.4e+14</td> <td>  5.4e+14</td>\n",
       "</tr>\n",
       "<tr>\n",
       "  <th>invoice_currency_code_gbp</th>                                            <td> 1.139e+15</td> <td> 7.04e+06</td> <td> 1.62e+08</td> <td> 0.000</td> <td> 1.14e+15</td> <td> 1.14e+15</td>\n",
       "</tr>\n",
       "<tr>\n",
       "  <th>invoice_currency_code_jod</th>                                            <td> 6.192e+14</td> <td> 1.32e+07</td> <td> 4.69e+07</td> <td> 0.000</td> <td> 6.19e+14</td> <td> 6.19e+14</td>\n",
       "</tr>\n",
       "<tr>\n",
       "  <th>invoice_currency_code_kwd</th>                                            <td> 1.923e+14</td> <td> 2.51e+06</td> <td> 7.67e+07</td> <td> 0.000</td> <td> 1.92e+14</td> <td> 1.92e+14</td>\n",
       "</tr>\n",
       "<tr>\n",
       "  <th>invoice_currency_code_qar</th>                                            <td>-1.158e+14</td> <td> 3.37e+06</td> <td>-3.44e+07</td> <td> 0.000</td> <td>-1.16e+14</td> <td>-1.16e+14</td>\n",
       "</tr>\n",
       "<tr>\n",
       "  <th>invoice_currency_code_sar</th>                                            <td>-2.621e+14</td> <td> 7.37e+05</td> <td>-3.56e+08</td> <td> 0.000</td> <td>-2.62e+14</td> <td>-2.62e+14</td>\n",
       "</tr>\n",
       "<tr>\n",
       "  <th>invoice_currency_code_usd</th>                                            <td> 4.429e+14</td> <td> 8.15e+05</td> <td> 5.44e+08</td> <td> 0.000</td> <td> 4.43e+14</td> <td> 4.43e+14</td>\n",
       "</tr>\n",
       "<tr>\n",
       "  <th>invoice_currency_code_zar</th>                                            <td>-3.161e+14</td> <td> 9.06e+06</td> <td>-3.49e+07</td> <td> 0.000</td> <td>-3.16e+14</td> <td>-3.16e+14</td>\n",
       "</tr>\n",
       "<tr>\n",
       "  <th>invoice_type_non goods</th>                                               <td>-6.106e+14</td> <td> 8.24e+05</td> <td>-7.41e+08</td> <td> 0.000</td> <td>-6.11e+14</td> <td>-6.11e+14</td>\n",
       "</tr>\n",
       "</table>"
      ],
      "text/plain": [
       "<class 'statsmodels.iolib.summary.Summary'>\n",
       "\"\"\"\n",
       "                 Generalized Linear Model Regression Results                  \n",
       "==============================================================================\n",
       "Dep. Variable:                 target   No. Observations:                65755\n",
       "Model:                            GLM   Df Residuals:                    65702\n",
       "Model Family:                Binomial   Df Model:                           52\n",
       "Link Function:                  Logit   Scale:                          1.0000\n",
       "Method:                          IRLS   Log-Likelihood:                    nan\n",
       "Date:                Mon, 27 Feb 2023   Deviance:                   1.7758e+05\n",
       "Time:                        16:59:16   Pearson chi2:                 8.68e+18\n",
       "No. Iterations:                   100   Pseudo R-squ. (CS):                nan\n",
       "Covariance Type:            nonrobust                                         \n",
       "========================================================================================================================================\n",
       "                                                                           coef    std err          z      P>|z|      [0.025      0.975]\n",
       "----------------------------------------------------------------------------------------------------------------------------------------\n",
       "const                                                                 2.343e+15    1.6e+06   1.46e+09      0.000    2.34e+15    2.34e+15\n",
       "cbrt_usd_amount                                                       6.054e+13   3.09e+05   1.96e+08      0.000    6.05e+13    6.05e+13\n",
       "age                                                                  -1.349e+15   3.03e+05  -4.45e+09      0.000   -1.35e+15   -1.35e+15\n",
       "payment_term_120 days from eom                                        1.119e+15   6.72e+07   1.67e+07      0.000    1.12e+15    1.12e+15\n",
       "payment_term_120 days from inv date                                  -7.245e+14   7.67e+06  -9.44e+07      0.000   -7.25e+14   -7.25e+14\n",
       "payment_term_15 days from eom                                         9.176e+14   2.54e+06   3.62e+08      0.000    9.18e+14    9.18e+14\n",
       "payment_term_15 days from inv date                                    9.813e+14   4.85e+06   2.03e+08      0.000    9.81e+14    9.81e+14\n",
       "payment_term_180 days from inv date                                     -0.8263      6e-07  -1.38e+06      0.000      -0.826      -0.826\n",
       "payment_term_195 days from invoice date                              -3.161e+14   9.06e+06  -3.49e+07      0.000   -3.16e+14   -3.16e+14\n",
       "payment_term_25 days from eom                                         7.997e+14   4.43e+06   1.81e+08      0.000       8e+14       8e+14\n",
       "payment_term_25% advance, 75% 30 days from invoice date               2.288e+15   3.36e+07    6.8e+07      0.000    2.29e+15    2.29e+15\n",
       "payment_term_30 days from eom                                         2.634e+15   2.47e+06   1.07e+09      0.000    2.63e+15    2.63e+15\n",
       "payment_term_30 days from inv date                                    7.158e+14   2.41e+06   2.97e+08      0.000    7.16e+14    7.16e+14\n",
       "payment_term_30% advance 70% after 30 days from invoice date          3.063e+15   3.37e+07    9.1e+07      0.000    3.06e+15    3.06e+15\n",
       "payment_term_30% advance 70% after 60 days from invoice date         -8.165e+14   2.39e+07  -3.42e+07      0.000   -8.16e+14   -8.16e+14\n",
       "payment_term_365 days from invoice date                              -4.179e+15   3.37e+07  -1.24e+08      0.000   -4.18e+15   -4.18e+15\n",
       "payment_term_40 days from eom                                         2.493e+15   6.72e+07   3.71e+07      0.000    2.49e+15    2.49e+15\n",
       "payment_term_45 days + eom                                           -2.151e+12      5e+06   -4.3e+05      0.000   -2.15e+12   -2.15e+12\n",
       "payment_term_45 days from eom                                         2.385e+15   2.73e+06   8.73e+08      0.000    2.38e+15    2.38e+15\n",
       "payment_term_45 days from inv date                                   -6.966e+14   2.71e+06  -2.57e+08      0.000   -6.97e+14   -6.97e+14\n",
       "payment_term_50% adv 50% 30 days                                      1.867e+15   1.19e+07   1.57e+08      0.000    1.87e+15    1.87e+15\n",
       "payment_term_50% advance 50% invdate+60 days                          1.977e+15   8.14e+06   2.43e+08      0.000    1.98e+15    1.98e+15\n",
       "payment_term_50% advance payment and 50% upon receiving the shipment  8.792e+14   3.01e+07   2.92e+07      0.000    8.79e+14    8.79e+14\n",
       "payment_term_50% at 30 days and 50% at 60 days                        1.758e+15   4.75e+07    3.7e+07      0.000    1.76e+15    1.76e+15\n",
       "payment_term_60 days from eom                                        -1.082e+15   2.48e+06  -4.36e+08      0.000   -1.08e+15   -1.08e+15\n",
       "payment_term_60 days from inv date                                     2.28e+15   2.41e+06   9.47e+08      0.000    2.28e+15    2.28e+15\n",
       "payment_term_7 days from eom                                          3.146e+15   6.72e+07   4.68e+07      0.000    3.15e+15    3.15e+15\n",
       "payment_term_7 days from inv date                                     7.807e+14   1.27e+07   6.16e+07      0.000    7.81e+14    7.81e+14\n",
       "payment_term_75 days from eom                                        -1.329e+15   6.21e+06  -2.14e+08      0.000   -1.33e+15   -1.33e+15\n",
       "payment_term_75 days from inv date                                    3.446e+14   1.07e+07   3.21e+07      0.000    3.45e+14    3.45e+14\n",
       "payment_term_90 days from eom                                        -1.803e+15   2.74e+06  -6.57e+08      0.000    -1.8e+15    -1.8e+15\n",
       "payment_term_90 days from inv date                                   -1.397e+15    2.9e+06  -4.82e+08      0.000    -1.4e+15    -1.4e+15\n",
       "payment_term_advance with discount                                    3.433e+15   6.72e+07   5.11e+07      0.000    3.43e+15    3.43e+15\n",
       "payment_term_cash against document at sight                            2.93e+15   3.94e+07   7.43e+07      0.000    2.93e+15    2.93e+15\n",
       "payment_term_cash on delivery                                         4.017e+14   4.59e+06   8.75e+07      0.000    4.02e+14    4.02e+14\n",
       "payment_term_eom                                                     -4.447e+13   5.72e+06  -7.78e+06      0.000   -4.45e+13   -4.45e+13\n",
       "payment_term_immediate                                               -9.388e+14   1.69e+06  -5.55e+08      0.000   -9.39e+14   -9.39e+14\n",
       "payment_term_immediate payment                                       -1.306e+15   2.58e+06  -5.06e+08      0.000   -1.31e+15   -1.31e+15\n",
       "payment_term_lc at 60 days                                           -4.773e+14   7.73e+06  -6.17e+07      0.000   -4.77e+14   -4.77e+14\n",
       "payment_term_lc at 60 days from fcr/awb/bl date                       1.773e+15   1.81e+07    9.8e+07      0.000    1.77e+15    1.77e+15\n",
       "payment_term_lc at 90 days                                           -2.281e+15   1.43e+07   -1.6e+08      0.000   -2.28e+15   -2.28e+15\n",
       "payment_term_lcsight                                                  1.763e+15   1.52e+07   1.16e+08      0.000    1.76e+15    1.76e+15\n",
       "payment_term_on consignment                                          -1.849e+14    5.4e+06  -3.43e+07      0.000   -1.85e+14   -1.85e+14\n",
       "payment_term_standby lc at 30 days                                    2.859e+15   6.72e+07   4.26e+07      0.000    2.86e+15    2.86e+15\n",
       "invoice_class_dm                                                      3.754e+15   3.05e+06   1.23e+09      0.000    3.75e+15    3.75e+15\n",
       "invoice_class_inv                                                    -4.718e+14    1.5e+06  -3.14e+08      0.000   -4.72e+14   -4.72e+14\n",
       "invoice_currency_code_bhd                                             -7.54e+14   4.18e+06   -1.8e+08      0.000   -7.54e+14   -7.54e+14\n",
       "invoice_currency_code_eur                                               5.4e+14   2.26e+06   2.39e+08      0.000     5.4e+14     5.4e+14\n",
       "invoice_currency_code_gbp                                             1.139e+15   7.04e+06   1.62e+08      0.000    1.14e+15    1.14e+15\n",
       "invoice_currency_code_jod                                             6.192e+14   1.32e+07   4.69e+07      0.000    6.19e+14    6.19e+14\n",
       "invoice_currency_code_kwd                                             1.923e+14   2.51e+06   7.67e+07      0.000    1.92e+14    1.92e+14\n",
       "invoice_currency_code_qar                                            -1.158e+14   3.37e+06  -3.44e+07      0.000   -1.16e+14   -1.16e+14\n",
       "invoice_currency_code_sar                                            -2.621e+14   7.37e+05  -3.56e+08      0.000   -2.62e+14   -2.62e+14\n",
       "invoice_currency_code_usd                                             4.429e+14   8.15e+05   5.44e+08      0.000    4.43e+14    4.43e+14\n",
       "invoice_currency_code_zar                                            -3.161e+14   9.06e+06  -3.49e+07      0.000   -3.16e+14   -3.16e+14\n",
       "invoice_type_non goods                                               -6.106e+14   8.24e+05  -7.41e+08      0.000   -6.11e+14   -6.11e+14\n",
       "========================================================================================================================================\n",
       "\"\"\""
      ]
     },
     "execution_count": 87,
     "metadata": {},
     "output_type": "execute_result"
    }
   ],
   "source": [
    "### Model Building\n",
    "\n",
    "import statsmodels.api as sm\n",
    "# Logistic regression model\n",
    "logm1 = sm.GLM(y_train,(sm.add_constant(X_train)), family = sm.families.Binomial())\n",
    "logm1.fit().summary()"
   ]
  },
  {
   "cell_type": "code",
   "execution_count": 88,
   "id": "62881f3f",
   "metadata": {},
   "outputs": [],
   "source": [
    "from sklearn.linear_model import LogisticRegression\n",
    "logisticRegr = LogisticRegression()"
   ]
  },
  {
   "cell_type": "code",
   "execution_count": 89,
   "id": "d65f68cf",
   "metadata": {},
   "outputs": [
    {
     "data": {
      "text/plain": [
       "LogisticRegression()"
      ]
     },
     "execution_count": 89,
     "metadata": {},
     "output_type": "execute_result"
    }
   ],
   "source": [
    "logisticRegr.fit(X_train, y_train)"
   ]
  },
  {
   "cell_type": "code",
   "execution_count": 90,
   "id": "464dcb4e",
   "metadata": {},
   "outputs": [
    {
     "data": {
      "text/plain": [
       "0.9883968490525867"
      ]
     },
     "execution_count": 90,
     "metadata": {},
     "output_type": "execute_result"
    }
   ],
   "source": [
    "# Use score method to get accuracy of model\n",
    "prediction = logisticRegr.predict(X_train)\n",
    "test_score = logisticRegr.score(X_test, y_test)\n",
    "test_score"
   ]
  },
  {
   "cell_type": "code",
   "execution_count": 91,
   "id": "c9b68c9f",
   "metadata": {},
   "outputs": [
    {
     "name": "stdout",
     "output_type": "stream",
     "text": [
      "X_train shape:  (65755, 55)\n",
      "X_test shape:  (28182, 55)\n"
     ]
    }
   ],
   "source": [
    "print('X_train shape: ',X_train.shape)\n",
    "print('X_test shape: ',X_test.shape)"
   ]
  },
  {
   "cell_type": "code",
   "execution_count": 92,
   "id": "a49318d6",
   "metadata": {},
   "outputs": [],
   "source": [
    "train_pred = logisticRegr.predict(X_train)\n",
    "y_pred = logisticRegr.predict(X_test)"
   ]
  },
  {
   "cell_type": "code",
   "execution_count": 93,
   "id": "e7b61699",
   "metadata": {},
   "outputs": [
    {
     "name": "stdout",
     "output_type": "stream",
     "text": [
      "train score 0.988806934833853\n",
      "test score 0.9883968490525867\n"
     ]
    }
   ],
   "source": [
    "from sklearn import metrics\n",
    "train_score = metrics.accuracy_score(y_train, train_pred)\n",
    "test_score = metrics.accuracy_score(y_test, y_pred)\n",
    "print(\"train score\", train_score)\n",
    "print(\"test score\", test_score)"
   ]
  },
  {
   "cell_type": "code",
   "execution_count": 94,
   "id": "b8d0e580",
   "metadata": {},
   "outputs": [
    {
     "data": {
      "text/plain": [
       "<Figure size 720x360 with 0 Axes>"
      ]
     },
     "metadata": {},
     "output_type": "display_data"
    },
    {
     "data": {
      "image/png": "[encoded data removed]",
      "text/plain": [
       "<Figure size 432x288 with 2 Axes>"
      ]
     },
     "metadata": {},
     "output_type": "display_data"
    }
   ],
   "source": [
    "from sklearn.metrics import plot_confusion_matrix\n",
    "from sklearn.metrics import confusion_matrix, plot_confusion_matrix\n",
    "\n",
    "#conf_mat = confusion_matrix(y_test, y_pred)\n",
    "#class_names=[0,1]\n",
    "#print(conf_mat)\n",
    "#plt.figure(figsize=(10,5))\n",
    "\n",
    "#plt.grid(False)\n",
    "plt.figure(figsize=(10,5))\n",
    "plot_confusion_matrix(logisticRegr, X_test, y_test, cmap=\"summer\",\n",
    "                                colorbar=True)  \n",
    "plt.grid(False)\n",
    "plt.show()"
   ]
  },
  {
   "cell_type": "code",
   "execution_count": 95,
   "id": "7144661c",
   "metadata": {},
   "outputs": [
    {
     "name": "stdout",
     "output_type": "stream",
     "text": [
      "confusion Matrix is :\n",
      "\n",
      " [[  813   279]\n",
      " [   48 27042]]\n",
      "\n",
      "\n",
      "ROC-AUC score  test dataset:  \t 0.9936731043043335\n",
      "precision score  test dataset:   0.9897880751070605\n",
      "Recall score  test dataset:  \t 0.9982281284606866\n",
      "f1 score  test dataset :  \t 0.9939901858080168\n"
     ]
    }
   ],
   "source": [
    "from sklearn import metrics\n",
    "from sklearn.metrics import confusion_matrix\n",
    "# predict probabilities on Test and take probability for class 1([:1])\n",
    "y_pred_prob_test = logisticRegr.predict_proba(X_test)[:, 1]\n",
    "#predict labels on test dataset\n",
    "y_pred_test = logisticRegr.predict(X_test)\n",
    "# create onfusion matrix\n",
    "cm = confusion_matrix(y_test, y_pred_test)\n",
    "print(\"confusion Matrix is :\\n\\n\",cm)\n",
    "print(\"\\n\")\n",
    "# ROC- AUC score\n",
    "print(\"ROC-AUC score  test dataset:  \\t\", metrics.roc_auc_score(y_test,y_pred_prob_test))\n",
    "#Precision score\n",
    "print(\"precision score  test dataset:  \", metrics.precision_score(y_test,y_pred_test))\n",
    "#Recall Score\n",
    "print(\"Recall score  test dataset:  \\t\", metrics.recall_score(y_test,y_pred_test))\n",
    "#f1 score\n",
    "print(\"f1 score  test dataset :  \\t\", metrics.f1_score(y_test,y_pred_test))"
   ]
  },
  {
   "cell_type": "markdown",
   "id": "5f806277",
   "metadata": {},
   "source": [
    "Challenges related to imbalanced dataset\n",
    "\n",
    "Biased predictions\n",
    "Misleading accuracy\n",
    "We will check with two efficient techniques: ADASYN and SMOTE+TOMEK"
   ]
  },
  {
   "cell_type": "code",
   "execution_count": 101,
   "id": "15cbb3ff",
   "metadata": {},
   "outputs": [],
   "source": [
    "#Import Random Forest Model\n",
    "from sklearn.ensemble import RandomForestClassifier\n",
    "\n",
    "#Create a Gaussian Classifier\n",
    "clf=RandomForestClassifier(n_estimators=100)\n",
    "\n",
    "#Train the model using the training sets y_pred=clf.predict(X_test)\n",
    "clf.fit(X_train,y_train)\n",
    "\n",
    "y_pred=clf.predict(X_test)"
   ]
  },
  {
   "cell_type": "code",
   "execution_count": 102,
   "id": "5c20699b",
   "metadata": {},
   "outputs": [
    {
     "name": "stdout",
     "output_type": "stream",
     "text": [
      "Train set accuracy: 1.0\n",
      "Test set accuracy: 1.0\n"
     ]
    }
   ],
   "source": [
    "#train and test set prediction\n",
    "y_pred = clf.predict(X_test)\n",
    "y_pred_train = clf.predict(X_train)\n",
    "print(\"Train set accuracy:\",metrics.accuracy_score(y_train, y_pred_train))\n",
    "print(\"Test set accuracy:\",metrics.accuracy_score(y_test, y_pred))"
   ]
  },
  {
   "cell_type": "code",
   "execution_count": 103,
   "id": "1c958906",
   "metadata": {},
   "outputs": [
    {
     "data": {
      "text/plain": [
       "age                                   0.772616\n",
       "payment_term_immediate payment        0.087882\n",
       "cbrt_usd_amount                       0.042696\n",
       "invoice_type_non goods                0.040645\n",
       "invoice_currency_code_sar             0.016304\n",
       "payment_term_immediate                0.008741\n",
       "invoice_class_inv                     0.007148\n",
       "invoice_currency_code_usd             0.003899\n",
       "payment_term_30 days from eom         0.003212\n",
       "payment_term_60 days from inv date    0.003119\n",
       "payment_term_30 days from inv date    0.002411\n",
       "payment_term_cash on delivery         0.001778\n",
       "payment_term_60 days from eom         0.001636\n",
       "payment_term_90 days from eom         0.001431\n",
       "payment_term_15 days from eom         0.001110\n",
       "invoice_currency_code_eur             0.001029\n",
       "invoice_class_dm                      0.000874\n",
       "invoice_currency_code_bhd             0.000851\n",
       "payment_term_45 days from inv date    0.000706\n",
       "payment_term_15 days from inv date    0.000349\n",
       "dtype: float64"
      ]
     },
     "execution_count": 103,
     "metadata": {},
     "output_type": "execute_result"
    }
   ],
   "source": [
    "feature_imp = pd.Series(clf.feature_importances_,index=X_train.columns).sort_values(ascending=False)\n",
    "feature_imp.nlargest(20)"
   ]
  },
  {
   "cell_type": "code",
   "execution_count": 106,
   "id": "63685e06",
   "metadata": {},
   "outputs": [],
   "source": [
    "### Finalise the model\n",
    "\n",
    "X = data[['age',\n",
    "       'payment_term_50% advance payment and 50% upon receiving the shipment',\n",
    "       'payment_term_eom', 'payment_term_lcsight',\n",
    "       'payment_term_on consignment', 'invoice_currency_code_eur',\n",
    "       'invoice_currency_code_gbp', 'invoice_currency_code_kwd',\n",
    "       'invoice_currency_code_qar', 'invoice_type_non goods']]\n",
    "y = data[['target']]"
   ]
  },
  {
   "cell_type": "code",
   "execution_count": 107,
   "id": "e8cfe7e8",
   "metadata": {},
   "outputs": [],
   "source": [
    "X_train, X_test, y_train, y_test = train_test_split(X, y, train_size = 0.7, test_size = 0.3, random_state = 100)"
   ]
  },
  {
   "cell_type": "code",
   "execution_count": 108,
   "id": "9e6566dd",
   "metadata": {},
   "outputs": [],
   "source": [
    "from sklearn.preprocessing import StandardScaler\n",
    "scaler = StandardScaler()"
   ]
  },
  {
   "cell_type": "code",
   "execution_count": 109,
   "id": "7a8c9764",
   "metadata": {},
   "outputs": [],
   "source": [
    "num_vars = ['age']"
   ]
  },
  {
   "cell_type": "code",
   "execution_count": 110,
   "id": "381bb60d",
   "metadata": {},
   "outputs": [],
   "source": [
    "data[num_vars] = scaler.fit_transform(data[num_vars])"
   ]
  },
  {
   "cell_type": "code",
   "execution_count": 111,
   "id": "6e7f5f2f",
   "metadata": {},
   "outputs": [],
   "source": [
    "scaler.fit(X_train[['age']])\n",
    "X_train[['age']] = scaler.transform(X_train[['age']])"
   ]
  },
  {
   "cell_type": "code",
   "execution_count": 112,
   "id": "211d94e5",
   "metadata": {},
   "outputs": [],
   "source": [
    "X_test[['age']] = scaler.transform(X_test[['age']])"
   ]
  },
  {
   "cell_type": "code",
   "execution_count": 115,
   "id": "134bd3f1",
   "metadata": {},
   "outputs": [
    {
     "ename": "NameError",
     "evalue": "name 'y_pred_smt_tmk' is not defined",
     "output_type": "error",
     "traceback": [
      "\u001b[1;31m---------------------------------------------------------------------------\u001b[0m",
      "\u001b[1;31mNameError\u001b[0m                                 Traceback (most recent call last)",
      "Input \u001b[1;32mIn [115]\u001b[0m, in \u001b[0;36m<cell line: 2>\u001b[1;34m()\u001b[0m\n\u001b[0;32m      1\u001b[0m \u001b[38;5;28;01mfrom\u001b[39;00m \u001b[38;5;21;01msklearn\u001b[39;00m \u001b[38;5;28;01mimport\u001b[39;00m metrics\n\u001b[1;32m----> 2\u001b[0m \u001b[38;5;28mprint\u001b[39m (\u001b[38;5;124m'\u001b[39m\u001b[38;5;124mAccuracy: \u001b[39m\u001b[38;5;124m'\u001b[39m, metrics\u001b[38;5;241m.\u001b[39maccuracy_score(y_test, \u001b[43my_pred_smt_tmk\u001b[49m))\n\u001b[0;32m      3\u001b[0m \u001b[38;5;28mprint\u001b[39m (\u001b[38;5;124m'\u001b[39m\u001b[38;5;124mF1 score: \u001b[39m\u001b[38;5;124m'\u001b[39m, metrics\u001b[38;5;241m.\u001b[39mf1_score(y_test, y_pred_smt_tmk))\n\u001b[0;32m      4\u001b[0m \u001b[38;5;28mprint\u001b[39m (\u001b[38;5;124m'\u001b[39m\u001b[38;5;124mRecall: \u001b[39m\u001b[38;5;124m'\u001b[39m, metrics\u001b[38;5;241m.\u001b[39mrecall_score(y_test, y_pred_smt_tmk))\n",
      "\u001b[1;31mNameError\u001b[0m: name 'y_pred_smt_tmk' is not defined"
     ]
    }
   ],
   "source": [
    "from sklearn import metrics\n",
    "print ('Accuracy: ', metrics.accuracy_score(y_test, y_pred_smt_tmk))\n",
    "print ('F1 score: ', metrics.f1_score(y_test, y_pred_smt_tmk))\n",
    "print ('Recall: ', metrics.recall_score(y_test, y_pred_smt_tmk))\n",
    "print ('Precision: ', metrics.precision_score(y_test, y_pred_smt_tmk))\n",
    "print ('\\n clasification report:\\n', metrics.classification_report(y_test,y_pred_smt_tmk))\n",
    "print ('\\n confussion matrix:\\n',metrics.confusion_matrix(y_test, y_pred_smt_tmk))"
   ]
  },
  {
   "cell_type": "code",
   "execution_count": null,
   "id": "e070b488",
   "metadata": {},
   "outputs": [],
   "source": []
  },
  {
   "cell_type": "code",
   "execution_count": null,
   "id": "22d9d4f5",
   "metadata": {},
   "outputs": [],
   "source": []
  },
  {
   "cell_type": "code",
   "execution_count": null,
   "id": "15124bf0",
   "metadata": {},
   "outputs": [],
   "source": []
  },
  {
   "cell_type": "code",
   "execution_count": null,
   "id": "a84f7f16",
   "metadata": {},
   "outputs": [],
   "source": []
  },
  {
   "cell_type": "code",
   "execution_count": null,
   "id": "a755f298",
   "metadata": {},
   "outputs": [],
   "source": []
  },
  {
   "cell_type": "code",
   "execution_count": null,
   "id": "0d303945",
   "metadata": {},
   "outputs": [],
   "source": []
  },
  {
   "cell_type": "code",
   "execution_count": null,
   "id": "70de28ef",
   "metadata": {},
   "outputs": [],
   "source": []
  },
  {
   "cell_type": "code",
   "execution_count": null,
   "id": "f8ae6654",
   "metadata": {},
   "outputs": [],
   "source": []
  },
  {
   "cell_type": "code",
   "execution_count": null,
   "id": "192a7609",
   "metadata": {},
   "outputs": [],
   "source": []
  },
  {
   "cell_type": "code",
   "execution_count": null,
   "id": "0b36ed82",
   "metadata": {},
   "outputs": [],
   "source": []
  },
  {
   "cell_type": "code",
   "execution_count": null,
   "id": "b8d1184f",
   "metadata": {},
   "outputs": [],
   "source": []
  },
  {
   "cell_type": "code",
   "execution_count": null,
   "id": "807e847c",
   "metadata": {},
   "outputs": [],
   "source": []
  },
  {
   "cell_type": "code",
   "execution_count": null,
   "id": "82f7c44d",
   "metadata": {},
   "outputs": [],
   "source": []
  },
  {
   "cell_type": "code",
   "execution_count": null,
   "id": "d59e97f7",
   "metadata": {},
   "outputs": [],
   "source": []
  },
  {
   "cell_type": "code",
   "execution_count": null,
   "id": "d5fd2caf",
   "metadata": {},
   "outputs": [],
   "source": []
  },
  {
   "cell_type": "code",
   "execution_count": null,
   "id": "03a230e5",
   "metadata": {},
   "outputs": [],
   "source": []
  }
 ],
 "metadata": {
  "kernelspec": {
   "display_name": "Python 3 (ipykernel)",
   "language": "python",
   "name": "python3"
  },
  "language_info": {
   "codemirror_mode": {
    "name": "ipython",
    "version": 3
   },
   "file_extension": ".py",
   "mimetype": "text/x-python",
   "name": "python",
   "nbconvert_exporter": "python",
   "pygments_lexer": "ipython3",
   "version": "3.9.12"
  }
 },
 "nbformat": 4,
 "nbformat_minor": 5
}
